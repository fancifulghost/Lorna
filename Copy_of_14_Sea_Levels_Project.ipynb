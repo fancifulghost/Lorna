{
  "nbformat": 4,
  "nbformat_minor": 0,
  "metadata": {
    "colab": {
      "name": "Copy of 14. Sea-Levels Project.ipynb",
      "provenance": [],
      "collapsed_sections": [],
      "include_colab_link": true
    },
    "kernelspec": {
      "name": "python3",
      "display_name": "Python 3"
    },
    "language_info": {
      "name": "python"
    }
  },
  "cells": [
    {
      "cell_type": "markdown",
      "metadata": {
        "id": "view-in-github",
        "colab_type": "text"
      },
      "source": [
        "<a href=\"https://colab.research.google.com/github/fancifulghost/Lorna/blob/main/Copy_of_14_Sea_Levels_Project.ipynb\" target=\"_parent\"><img src=\"https://colab.research.google.com/assets/colab-badge.svg\" alt=\"Open In Colab\"/></a>"
      ]
    },
    {
      "cell_type": "markdown",
      "metadata": {
        "id": "TtGpyRE2itGv"
      },
      "source": [
        "# Sea-Level predictor project\n",
        "\n",
        "---\n"
      ]
    },
    {
      "cell_type": "markdown",
      "metadata": {
        "id": "5izBi6vRiyIV"
      },
      "source": [
        "This is a freeCodeCamp project\n",
        "\n",
        "### Data Source\n",
        "Global Average Absolute Sea Level Change, 1880-2014 from the US Environmental Protection Agency using data from CSIRO, 2015; NOAA, 2015.\n",
        "https://datahub.io/core/sea-level-rise\n",
        "\n",
        "The data describes annual sea levels from 1880 to 2013.  Measures are adjusted using two standards: Commonwealth Scientific and Industrial Research Organisation(CSIRO) and National Oceanic and Atmospheric Administration (NOAA)  \n",
        "\n",
        "Raw Data file:  https://raw.githubusercontent.com/freeCodeCamp/boilerplate-sea-level-predictor/master/epa-sea-level.csv\n",
        "\n",
        "---\n",
        "### Exercise 1 - Load in the data \n",
        "---\n",
        "\n",
        "Load in the sea-levels data and have a look, dont forget to check the numerical and technical summaries and get a feel for the dataset"
      ]
    },
    {
      "cell_type": "code",
      "metadata": {
        "id": "y7YD5Td_isLB",
        "colab": {
          "base_uri": "https://localhost:8080/"
        },
        "outputId": "6d935d0d-ec02-4e8d-89cc-3d47b6c8706b"
      },
      "source": [
        "import pandas as pd\n",
        "\n",
        "seaLevel_df = pd.read_csv(\"https://raw.githubusercontent.com/freeCodeCamp/boilerplate-sea-level-predictor/master/epa-sea-level.csv\")\n",
        "\n",
        "#display(seaLevel_df)\n",
        "seaLevel_df.info()"
      ],
      "execution_count": 78,
      "outputs": [
        {
          "output_type": "stream",
          "name": "stdout",
          "text": [
            "<class 'pandas.core.frame.DataFrame'>\n",
            "RangeIndex: 134 entries, 0 to 133\n",
            "Data columns (total 5 columns):\n",
            " #   Column                    Non-Null Count  Dtype  \n",
            "---  ------                    --------------  -----  \n",
            " 0   Year                      134 non-null    int64  \n",
            " 1   CSIRO Adjusted Sea Level  134 non-null    float64\n",
            " 2   Lower Error Bound         134 non-null    float64\n",
            " 3   Upper Error Bound         134 non-null    float64\n",
            " 4   NOAA Adjusted Sea Level   21 non-null     float64\n",
            "dtypes: float64(4), int64(1)\n",
            "memory usage: 5.4 KB\n"
          ]
        }
      ]
    },
    {
      "cell_type": "markdown",
      "metadata": {
        "id": "MevbGpJNm8_W"
      },
      "source": [
        "---\n",
        "### Exercise 2 - scatter plot \n",
        "Create a  scatter plot using the \"Year\" column as the x-axis and the \"CSIRO Adjusted Sea Level\" column as the y-axis.\n",
        "\n",
        "*hint: try using inline*"
      ]
    },
    {
      "cell_type": "code",
      "metadata": {
        "id": "96V3LU4rnK-N",
        "colab": {
          "base_uri": "https://localhost:8080/",
          "height": 279
        },
        "outputId": "a5855c78-34cb-4501-d24f-5f3454921b59"
      },
      "source": [
        "%matplotlib inline\n",
        "#from scipy.stats import linregress\n",
        "import pandas as pd\n",
        "import matplotlib.pyplot as plt\n",
        "\n",
        "\n",
        "x = seaLevel_df['Year']\n",
        "y = seaLevel_df['CSIRO Adjusted Sea Level']\n",
        "\n",
        "plt.scatter(x, y, color=\"lightseagreen\")\n",
        "\n",
        "plt.xlabel('Year')\n",
        "plt.ylabel('CSIRO Adjusted Sea Level')\n",
        "\n",
        "#regression = linregress(x,y)\n",
        "#slope = regression.slope\n",
        "#intercept = regression.intercept\n",
        "#plt.plot(x, slope*x + intercept, color=\"darkslategrey\")\n",
        "\n",
        "plt.show()"
      ],
      "execution_count": 79,
      "outputs": [
        {
          "output_type": "display_data",
          "data": {
            "text/plain": [
              "<Figure size 432x288 with 1 Axes>"
            ],
            "image/png": "[encoded data removed]"
          },
          "metadata": {
            "needs_background": "light"
          }
        }
      ]
    },
    {
      "cell_type": "markdown",
      "metadata": {
        "id": "leXjCPKqoJfk"
      },
      "source": [
        "---\n",
        "### Exercise 3 - Clean the data \n",
        "\n",
        "The column NOAA has null values in a number of rows.  Clean the data, producing a new dataframe. \n"
      ]
    },
    {
      "cell_type": "code",
      "metadata": {
        "id": "HuRM0qaUoenc",
        "colab": {
          "base_uri": "https://localhost:8080/"
        },
        "outputId": "abc478ea-5b36-40fe-9d88-1366d2ac47ea"
      },
      "source": [
        "\n",
        "\n",
        "sealevel_data = seaLevel_df.dropna(subset = [\"NOAA Adjusted Sea Level\"])\n",
        "\n",
        "seaLevel_data = seaLevel_df.dropna(subset = [\"NOAA Adjusted Sea Level\"])\n",
        "seaLevel_df.info()\n",
        "seaLevel_data.info()"
      ],
      "execution_count": 80,
      "outputs": [
        {
          "output_type": "stream",
          "name": "stdout",
          "text": [
            "<class 'pandas.core.frame.DataFrame'>\n",
            "RangeIndex: 134 entries, 0 to 133\n",
            "Data columns (total 5 columns):\n",
            " #   Column                    Non-Null Count  Dtype  \n",
            "---  ------                    --------------  -----  \n",
            " 0   Year                      134 non-null    int64  \n",
            " 1   CSIRO Adjusted Sea Level  134 non-null    float64\n",
            " 2   Lower Error Bound         134 non-null    float64\n",
            " 3   Upper Error Bound         134 non-null    float64\n",
            " 4   NOAA Adjusted Sea Level   21 non-null     float64\n",
            "dtypes: float64(4), int64(1)\n",
            "memory usage: 5.4 KB\n",
            "<class 'pandas.core.frame.DataFrame'>\n",
            "Int64Index: 21 entries, 113 to 133\n",
            "Data columns (total 5 columns):\n",
            " #   Column                    Non-Null Count  Dtype  \n",
            "---  ------                    --------------  -----  \n",
            " 0   Year                      21 non-null     int64  \n",
            " 1   CSIRO Adjusted Sea Level  21 non-null     float64\n",
            " 2   Lower Error Bound         21 non-null     float64\n",
            " 3   Upper Error Bound         21 non-null     float64\n",
            " 4   NOAA Adjusted Sea Level   21 non-null     float64\n",
            "dtypes: float64(4), int64(1)\n",
            "memory usage: 1008.0 bytes\n"
          ]
        }
      ]
    },
    {
      "cell_type": "markdown",
      "metadata": {
        "id": "R-V0fcMBo_-N"
      },
      "source": [
        "\n",
        "### Exercise 3 - plot scatter graph for NOAA adjusted levels\n",
        "---\n"
      ]
    },
    {
      "cell_type": "code",
      "metadata": {
        "id": "HvnS0mhppLLc",
        "colab": {
          "base_uri": "https://localhost:8080/",
          "height": 279
        },
        "outputId": "e98fe053-906e-4470-983d-740f47647545"
      },
      "source": [
        "%matplotlib inline\n",
        "#from scipy.stats import linregress\n",
        "import pandas as pd\n",
        "import matplotlib.pyplot as plt\n",
        "\n",
        "\n",
        "x = seaLevel_data['Year']\n",
        "y = seaLevel_data['NOAA Adjusted Sea Level']\n",
        "\n",
        "plt.scatter(x, y, color=\"lightseagreen\")\n",
        "\n",
        "plt.xlabel('Year')\n",
        "plt.ylabel('NOAA Adjusted Sea Level')\n",
        "\n",
        "#regression = linregress(x,y)\n",
        "#slope = regression.slope\n",
        "#intercept = regression.intercept\n",
        "#plt.plot(x, slope*x + intercept, color=\"darkslategrey\")\n",
        "\n",
        "plt.show()"
      ],
      "execution_count": 81,
      "outputs": [
        {
          "output_type": "display_data",
          "data": {
            "text/plain": [
              "<Figure size 432x288 with 1 Axes>"
            ],
            "image/png": "[encoded data removed]"
          },
          "metadata": {
            "needs_background": "light"
          }
        }
      ]
    },
    {
      "cell_type": "markdown",
      "metadata": {
        "id": "mtwuv0qgnjJ8"
      },
      "source": [
        "---\n",
        "### Exercise 4 - plot line of best fit for CSIRO\n",
        "\n",
        "*   Use the `linregress` function from `scipi.stats` to get the slope and y-intercept of the line of best fit.\n",
        "*   Plot the line of best fit over the top of the scatter plot. \n",
        "*   Make the line go through the year 2050 to predict the sea level rise in 2050.    \n",
        "\n",
        "*(Hint:  use numpy to create an array from the first year to 2050 with an increment of 1)*"
      ]
    },
    {
      "cell_type": "code",
      "metadata": {
        "id": "mMssVmCan7HI",
        "colab": {
          "base_uri": "https://localhost:8080/",
          "height": 279
        },
        "outputId": "c05ee50f-1b0b-43ae-c414-1ec751c2d5f9"
      },
      "source": [
        "%matplotlib inline\n",
        "from scipy.stats import linregress\n",
        "import matplotlib.pyplot as plt\n",
        "import numpy as np\n",
        "\n",
        "# get scope and y-intercept\n",
        "\n",
        "x = seaLevel_df['Year']\n",
        "y = seaLevel_df['CSIRO Adjusted Sea Level']\n",
        "plt.scatter(x, y, color=\"lightseagreen\")\n",
        "\n",
        "plt.xlabel('Year')\n",
        "plt.ylabel('CSIRO Adjusted Sea Level')\n",
        "\n",
        "year_array = np.arange(start=seaLevel_df['Year'].min(), stop=2051, step=1)\n",
        "\n",
        "regression = linregress(x,y)\n",
        "slope = regression.slope\n",
        "intercept = regression.intercept\n",
        "plt.plot(year_array, slope*year_array + intercept, color=\"darkslategrey\")\n",
        "\n",
        "\n",
        "plt.show()"
      ],
      "execution_count": 82,
      "outputs": [
        {
          "output_type": "display_data",
          "data": {
            "text/plain": [
              "<Figure size 432x288 with 1 Axes>"
            ],
            "image/png": "[encoded data removed]"
          },
          "metadata": {
            "needs_background": "light"
          }
        }
      ]
    },
    {
      "cell_type": "markdown",
      "metadata": {
        "id": "irprGhKO2yQs"
      },
      "source": [
        "### Exercise 5 - plot line of best fit for NOAA\n",
        "---\n",
        "\n",
        "*   Use the `linregress` function from `scipi.stats` to get the slope and y-intercept of the line of best fit.\n",
        "*   Plot the line of best fit over the top of the scatter plot. \n",
        "*   Make the line go through the year 2030 to predict the sea level rise in 2030\n",
        "\n",
        "*(Hint:  use numpy to create an array from the first year to 2030 with an increment of 1 AND remember to use noaa, which has NaN rows removed)*"
      ]
    },
    {
      "cell_type": "code",
      "metadata": {
        "id": "WZqP7hoO3Iw_",
        "colab": {
          "base_uri": "https://localhost:8080/",
          "height": 279
        },
        "outputId": "43ead732-ae32-4bb4-83dd-e0c20036632b"
      },
      "source": [
        "%matplotlib inline\n",
        "from scipy.stats import linregress\n",
        "import matplotlib.pyplot as plt\n",
        "import numpy as np\n",
        "\n",
        "\n",
        "x = seaLevel_data['Year']\n",
        "y = seaLevel_data['NOAA Adjusted Sea Level']\n",
        "plt.scatter(x, y, color=\"lightseagreen\")\n",
        "\n",
        "plt.xlabel('Year')\n",
        "plt.ylabel('NOAA Adjusted Sea Level')\n",
        "\n",
        "year_array = np.arange(start=seaLevel_data['Year'].min(), stop=2031, step=1)\n",
        "\n",
        "regression = linregress(x,y)\n",
        "slope = regression.slope\n",
        "intercept = regression.intercept\n",
        "plt.plot(year_array, slope*year_array + intercept, color=\"darkslategrey\")\n",
        "\n",
        "\n",
        "plt.show()\n",
        "\n"
      ],
      "execution_count": 83,
      "outputs": [
        {
          "output_type": "display_data",
          "data": {
            "text/plain": [
              "<Figure size 432x288 with 1 Axes>"
            ],
            "image/png": "[encoded data removed]"
          },
          "metadata": {
            "needs_background": "light"
          }
        }
      ]
    },
    {
      "cell_type": "markdown",
      "metadata": {
        "id": "52PpgSXk38eD"
      },
      "source": [
        "\n",
        "### Exercise 6 - shorter range (starting 2000)\n",
        "---\n",
        "\n",
        "Plot a new line of best fit just using the data from year 2000 through the most recent year in the dataset and using the CSIRO adjusted levels. Make the line also go through the year 2050 to predict the sea level rise in 2050 if the rate of rise continues as it has since the year 2000."
      ]
    },
    {
      "cell_type": "code",
      "metadata": {
        "id": "3yG0tWfS4GRN",
        "colab": {
          "base_uri": "https://localhost:8080/",
          "height": 279
        },
        "outputId": "aea809e2-36a1-4ed5-8335-c6521ebf9508"
      },
      "source": [
        "%matplotlib inline\n",
        "from scipy.stats import linregress\n",
        "import matplotlib.pyplot as plt\n",
        "import numpy as np\n",
        "\n",
        "# get scope and y-intercept\n",
        "\n",
        "year_2000 = seaLevel_df[seaLevel_df['Year'] >= 2000]\n",
        "\n",
        "x = year_2000['Year']\n",
        "y = year_2000['CSIRO Adjusted Sea Level']\n",
        "plt.scatter(x, y, color=\"lightseagreen\")\n",
        "\n",
        "plt.xlabel('Year')\n",
        "plt.ylabel('CSIRO Adjusted Sea Level')\n",
        "\n",
        "year_array = np.arange(start=2000, stop=2051, step=1)\n",
        "\n",
        "regression = linregress(x,y)\n",
        "slope = regression.slope\n",
        "intercept = regression.intercept\n",
        "plt.plot(year_array, slope*year_array + intercept, color=\"darkslategrey\")\n",
        "\n",
        "\n",
        "plt.show()"
      ],
      "execution_count": 92,
      "outputs": [
        {
          "output_type": "display_data",
          "data": {
            "text/plain": [
              "<Figure size 432x288 with 1 Axes>"
            ],
            "image/png": "[encoded data removed]"
          },
          "metadata": {
            "needs_background": "light"
          }
        }
      ]
    },
    {
      "cell_type": "markdown",
      "metadata": {
        "id": "AO-0vV1m40Ia"
      },
      "source": [
        "### Exercise 6 - add labels to the axes  \n",
        "---\n",
        "\n",
        "The x label should be \"Year\", the y label should be \"Sea Level (inches)\", and the title should be \"Rise in Sea Level\""
      ]
    },
    {
      "cell_type": "code",
      "metadata": {
        "id": "GSY4WpDy47VC",
        "colab": {
          "base_uri": "https://localhost:8080/",
          "height": 295
        },
        "outputId": "026980c0-d1e5-479b-d1aa-1ce284928930"
      },
      "source": [
        "%matplotlib inline\n",
        "from scipy.stats import linregress\n",
        "import matplotlib.pyplot as plt\n",
        "import numpy as np\n",
        "\n",
        "# get scope and y-intercept\n",
        "\n",
        "year_2000 = seaLevel_df[seaLevel_df['Year'] >= 2000]\n",
        "\n",
        "x = year_2000['Year']\n",
        "y = year_2000['CSIRO Adjusted Sea Level']\n",
        "plt.scatter(x, y, color=\"lightseagreen\")\n",
        "\n",
        "plt.xlabel('Year')\n",
        "plt.ylabel('Sea Level (inches)')\n",
        "plt.title(\"Rise in Sea Level\")\n",
        "\n",
        "year_array = np.arange(start=2000, stop=2051, step=1)\n",
        "\n",
        "regression = linregress(x,y)\n",
        "slope = regression.slope\n",
        "intercept = regression.intercept\n",
        "plt.plot(year_array, slope*year_array + intercept, color=\"darkslategrey\")\n",
        "\n",
        "\n",
        "plt.show()\n"
      ],
      "execution_count": 98,
      "outputs": [
        {
          "output_type": "display_data",
          "data": {
            "text/plain": [
              "<Figure size 432x288 with 1 Axes>"
            ],
            "image/png": "[encoded data removed]"
          },
          "metadata": {
            "needs_background": "light"
          }
        }
      ]
    }
  ]
}