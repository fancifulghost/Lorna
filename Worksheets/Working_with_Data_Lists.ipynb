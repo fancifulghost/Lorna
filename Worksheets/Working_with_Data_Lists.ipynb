{
  "nbformat": 4,
  "nbformat_minor": 0,
  "metadata": {
    "colab": {
      "name": "Working with Data Lists.ipynb",
      "provenance": [],
      "collapsed_sections": [],
      "include_colab_link": true
    },
    "kernelspec": {
      "name": "python3",
      "display_name": "Python 3"
    },
    "language_info": {
      "name": "python"
    }
  },
  "cells": [
    {
      "cell_type": "markdown",
      "metadata": {
        "id": "view-in-github",
        "colab_type": "text"
      },
      "source": [
        "<a href=\"https://colab.research.google.com/github/fancifulghost/Lorna/blob/main/Worksheets/Working_with_Data_Lists.ipynb\" target=\"_parent\"><img src=\"https://colab.research.google.com/assets/colab-badge.svg\" alt=\"Open In Colab\"/></a>"
      ]
    },
    {
      "cell_type": "markdown",
      "metadata": {
        "id": "Z-M-RCWATK71"
      },
      "source": [
        "# Lists\n",
        "\n",
        "Often we need to store a number of single items of data together so that they can be processed together. This might be because all the data refers to one person (e.g. name, age, gender, etc) OR it might be because we have a set of data (e.g. all the items that should be displayed in a drop down list, such as all the years from this year back to 100 years ago so that someone can select their year of birth)\n",
        "\n",
        "Python has a range of data structures available including:\n",
        "*   lists  \n",
        "*   tuples  \n",
        "*   dictionaries  \n",
        "*   sets\n",
        "\n",
        "This worksheet looks at lists.\n",
        "\n",
        "## List\n",
        "A list is a set of related, individual data objects, that are indexed and can be processed as a whole, as subsets or as individual items.  Lists are stored, essentially, as contiguous items in memory so that access can be as quick as possible.  However, they are mutable (they can be changed after they have been created and stored) and so they need to have extra functionality to deal with changing list sizes.\n",
        "\n",
        "# Let's get some lists of data\n",
        "For this worksheet we are going to work with data on STEAM games.  We are going to get the data from a spreadsheet and make lists that we can find things out from.\n",
        "\n"
      ]
    },
    {
      "cell_type": "markdown",
      "source": [
        "# Creating a list\n",
        "```\n",
        "nums = [1, 2, 3, 4, 5]\n",
        "names = [\"Tom\",\"Jerry\",\"Spike\"]\n",
        "```"
      ],
      "metadata": {
        "id": "TUvfamdEweE1"
      }
    },
    {
      "cell_type": "markdown",
      "source": [
        "# Printing a list\n",
        "\n",
        "```\n",
        "print(nums)\n",
        "[1,2,3,4,5]\n",
        "```\n",
        "\n",
        "```\n",
        "print(names)\n",
        "[\"Tom\",\"Jerry\",\"Spike\"]\n",
        "```"
      ],
      "metadata": {
        "id": "TdbhgKdjw8RN"
      }
    },
    {
      "cell_type": "code",
      "source": [
        "# create the lists, and print them\n",
        "nums = [1,2,3,4,5]\n",
        "names = [\"Tom\", \"Jerry\", \"Spike\"]\n",
        "print(nums)\n",
        "print(names)"
      ],
      "metadata": {
        "colab": {
          "base_uri": "https://localhost:8080/"
        },
        "id": "MiigkTzM0cLT",
        "outputId": "a980973f-af85-4e61-aa2f-22aced223e6b"
      },
      "execution_count": 3,
      "outputs": [
        {
          "output_type": "stream",
          "name": "stdout",
          "text": [
            "[1, 2, 3, 4, 5]\n",
            "['Tom', 'Jerry', 'Spike']\n"
          ]
        }
      ]
    },
    {
      "cell_type": "markdown",
      "source": [
        "# Print individual items in the list\n",
        "\n",
        "We can access any item in a list by its position (index).  Lists are indexed from 0.\n",
        "\n",
        "To print the first item in a list, use listname[0], to print the last item use listname[-1].\n",
        "\n",
        "```\n",
        "# This is formatted as code\n",
        "```\n",
        "\n",
        "\n",
        "\n",
        "```\n",
        "print(nums[0])\n",
        "1\n",
        "```\n",
        "```\n",
        "print(names[1])\n",
        "Jerry\n",
        "```\n",
        "\n",
        "```\n",
        "print(nums[-1])\n",
        "5\n",
        "```\n"
      ],
      "metadata": {
        "id": "bCV4jL3mxRlx"
      }
    },
    {
      "cell_type": "code",
      "source": [
        "# have a go at printing different items from the lists\n",
        "print(nums[0])\n",
        "print(names[1])\n",
        "print(nums[-1])"
      ],
      "metadata": {
        "colab": {
          "base_uri": "https://localhost:8080/"
        },
        "id": "zRiLBj7G0HWd",
        "outputId": "43de9de9-4b00-42d3-95ae-8edd40b1a835"
      },
      "execution_count": 4,
      "outputs": [
        {
          "output_type": "stream",
          "name": "stdout",
          "text": [
            "1\n",
            "Jerry\n",
            "5\n"
          ]
        }
      ]
    },
    {
      "cell_type": "markdown",
      "source": [
        "# Print a subset of a list\n",
        "\n",
        "listname[start_index : end_index+1]  \n",
        "If start_index is the first item, or end_index is the end of the list, they can be left out\n",
        "\n",
        "```\n",
        "print(nums[:3])\n",
        "[1,2,3]\n",
        "```\n",
        "\n",
        "```\n",
        "print(names[1:])\n",
        "[\"Jerry\",\"Spike\"]\n",
        "```\n",
        "\n",
        "```\n",
        "print(nums[1:3])\n",
        "[2,3]\n",
        "```"
      ],
      "metadata": {
        "id": "flklC_z_x68p"
      }
    },
    {
      "cell_type": "code",
      "source": [
        "# have a go at printing subsets of the lists\n",
        "print(nums[:3])\n",
        "print(names[1:])\n",
        "print(nums[1:3])"
      ],
      "metadata": {
        "colab": {
          "base_uri": "https://localhost:8080/"
        },
        "id": "Axf9WFjJ0NXE",
        "outputId": "fd034c6a-1111-4059-9fbf-ac1804862db8"
      },
      "execution_count": null,
      "outputs": [
        {
          "output_type": "stream",
          "name": "stdout",
          "text": [
            "[1, 2, 3]\n",
            "['Jerry', 'Spike']\n",
            "[2, 3]\n"
          ]
        }
      ]
    },
    {
      "cell_type": "markdown",
      "source": [
        "# List length\n",
        "\n",
        "Use the len() function to get the number of items in a list.\n",
        "\n",
        "There are 5 items in the nums list and 3 in the names list.\n",
        "\n",
        "Write a function that will:\n",
        "* print the length of the nums list\n",
        "* print the length of the names list\n",
        "* concatenate (add) the two lists together to make a new list called num_names\n",
        "* print the length of the new list\n",
        "\n",
        "Expected output:\n",
        "```\n",
        "The length of the nums list is: 5\n",
        "The length of the names list is: 3\n",
        "The length of the joined list is: 8\n",
        "```\n"
      ],
      "metadata": {
        "id": "OFTklrSRuhpz"
      }
    },
    {
      "cell_type": "code",
      "source": [
        "def print_list_info():\n",
        "  print(\"The length of the nums list is:\", len(nums))\n",
        "  print(\"The length of the names list is:\", len(names))\n",
        "  nums_names = nums + names\n",
        "  print(\"The length of the joined list is:\", len(nums_names))\n",
        "\n",
        "print_list_info()"
      ],
      "metadata": {
        "colab": {
          "base_uri": "https://localhost:8080/"
        },
        "id": "OLQfwEaDvPNT",
        "outputId": "1e3abb79-bcae-4e1d-a082-b730a0ad3d6d"
      },
      "execution_count": null,
      "outputs": [
        {
          "output_type": "stream",
          "name": "stdout",
          "text": [
            "The length of the nums list is: 5\n",
            "The length of the names list is: 3\n",
            "The length of the joined list is: 8\n"
          ]
        }
      ]
    },
    {
      "cell_type": "markdown",
      "source": [
        "# List methods\n",
        "\n",
        "You can get an overview of the methods you can use here: https://www.w3schools.com/python/python_lists_methods.asp\n",
        "\n",
        "Then: \n",
        "1.  Create the nums and names list again \n",
        "2.  Append the number 6 to the nums list, and print\n",
        "3.  Insert the name \"Sylvester\" before \"Jerry\" in the names list and print\n",
        "4.  Print the length of the nums list\n",
        "5.  Remove the number 4 from the nums list, and print\n",
        "6.  Print the max and min of the nums list\n",
        "7.  Create a new list called new_nums which contains the numbers 40 to 50 (use the range function)\n",
        "\n",
        "Expected output:  \n"
      ],
      "metadata": {
        "id": "tBN4Shtd12on"
      }
    },
    {
      "cell_type": "code",
      "source": [
        "nums = [1,2,3,4,5]\n",
        "names = [\"Tom\", \"Jerry\",\"Spike\"]\n",
        "nums.append(6)\n",
        "print(nums)\n",
        "names.insert(1, \"Sylvester\")\n",
        "print(names)\n",
        "print(len(nums))\n",
        "nums.remove(4)\n",
        "print(nums)\n",
        "print(max(nums), min(nums))\n",
        "new_nums = range(40,51)\n",
        "print(new_nums)\n"
      ],
      "metadata": {
        "colab": {
          "base_uri": "https://localhost:8080/"
        },
        "id": "goe4w-yw4BVt",
        "outputId": "5f2a7ff4-9f16-4977-ea60-9c981b419a62"
      },
      "execution_count": null,
      "outputs": [
        {
          "output_type": "stream",
          "name": "stdout",
          "text": [
            "[1, 2, 3, 4, 5, 6]\n",
            "['Tom', 'Sylvester', 'Jerry', 'Spike']\n",
            "6\n",
            "[1, 2, 3, 5, 6]\n",
            "6 1\n",
            "range(40, 51)\n"
          ]
        }
      ]
    },
    {
      "cell_type": "markdown",
      "source": [
        "# Now some real data\n",
        "---\n",
        "\n",
        "1.  Open the STEAM csv file (which we have taken from Kaggle and have reduced to make it more manageable): https://drive.google.com/file/d/1amPnoBi3uhQXjFaQbUy-L-Y-eeJ1BcxE/view?usp=sharing  \n",
        "\n",
        "2.  Open the file with Google sheets to see what is in it.  The file contains rows of data, each with a user id and a game that the user has purchased.\n",
        "\n",
        "3.  NOW, run the code in the cell below to get:  \n",
        "- users (the list of user ids in the data)\n",
        "- titles (the list of titles that have been purchased)"
      ],
      "metadata": {
        "id": "T2tA2VavJx9Q"
      }
    },
    {
      "cell_type": "code",
      "source": [
        "import pandas as pd\n",
        "\n",
        "# open the data file and get a copy of the Titles column\n",
        "def get_users_and_titles():\n",
        "  url = \"https://drive.google.com/uc?id=1rkG8-cp-KLBc1zK4YMLHIsMMyyTVk5Ju\"\n",
        "  data_table = pd.read_csv(url)\n",
        "  return data_table[\"User\"].tolist(), data_table[\"Title\"].tolist() \n",
        "\n",
        "users, titles = get_users_and_titles()"
      ],
      "metadata": {
        "id": "8YyBIyoCmz5s"
      },
      "execution_count": 5,
      "outputs": []
    },
    {
      "cell_type": "markdown",
      "metadata": {
        "id": "Ft0dXl7fUuaK"
      },
      "source": [
        "---\n",
        "### Exercise 1 - list head, tail and length of the titles list\n",
        "---\n",
        "\n",
        "Write a function, **describe_list()** which will:\n",
        "*  print the length of the list `titles`\n",
        "*  print the first 10 items in `titles` (the head)  \n",
        "*  print the last 5 items in `titles` (the tail)\n",
        "\n",
        "Expected output:  \n",
        "```\n",
        "129511\n",
        "['The Elder Scrolls V Skyrim', 'Fallout 4', 'Spore', 'Fallout New Vegas', 'Left 4 Dead 2', 'HuniePop', 'Path of Exile', 'Poly Bridge', 'Left 4 Dead', 'Team Fortress 2']\n",
        "['Fallen Earth', 'Magic Duels', 'Titan Souls', 'Grand Theft Auto Vice City', 'RUSH']\n",
        "```"
      ]
    },
    {
      "cell_type": "code",
      "metadata": {
        "id": "jUcZD7mmTJdA",
        "outputId": "20eec5a6-607b-49de-c261-92668274f028",
        "colab": {
          "base_uri": "https://localhost:8080/"
        }
      },
      "source": [
        "def print_info():\n",
        "\n",
        "    print(len(titles)) #Print the length of title list.\n",
        "    print(titles[:10]) #Print only the first 10 items in title list.\n",
        "    print(titles[-5:]) #Print the last 5 items in the titles list.\n",
        "\n",
        "print_info()"
      ],
      "execution_count": 8,
      "outputs": [
        {
          "output_type": "stream",
          "name": "stdout",
          "text": [
            "129511\n",
            "['The Elder Scrolls V Skyrim', 'Fallout 4', 'Spore', 'Fallout New Vegas', 'Left 4 Dead 2', 'HuniePop', 'Path of Exile', 'Poly Bridge', 'Left 4 Dead', 'Team Fortress 2']\n",
            "['Fallen Earth', 'Magic Duels', 'Titan Souls', 'Grand Theft Auto Vice City', 'RUSH']\n"
          ]
        }
      ]
    },
    {
      "cell_type": "markdown",
      "metadata": {
        "id": "yNWg08k6bXv0"
      },
      "source": [
        "---\n",
        "### Exercise 2 - use a loop to print the first 20 items\n",
        "\n",
        "Write a function which will:\n",
        "*  create a new list from the first 20 items of the titles list\n",
        "*  loop through the new list and print each item\n"
      ]
    },
    {
      "cell_type": "code",
      "metadata": {
        "id": "P2HnCG9pb1BS",
        "outputId": "cc8e432a-0b29-4e5b-8812-d32c7a115703",
        "colab": {
          "base_uri": "https://localhost:8080/"
        }
      },
      "source": [
        "def print_list():\n",
        "\n",
        "    new_list = [titles[:20]] #Creating a new list with only the first 20 items.\n",
        "    for i in new_list:\n",
        "      print(i)\n",
        "\n",
        "\n",
        "print_list()"
      ],
      "execution_count": 9,
      "outputs": [
        {
          "output_type": "stream",
          "name": "stdout",
          "text": [
            "['The Elder Scrolls V Skyrim', 'Fallout 4', 'Spore', 'Fallout New Vegas', 'Left 4 Dead 2', 'HuniePop', 'Path of Exile', 'Poly Bridge', 'Left 4 Dead', 'Team Fortress 2', 'Tomb Raider', 'The Banner Saga', 'Dead Island Epidemic', 'BioShock Infinite', 'Dragon Age Origins - Ultimate Edition', 'Fallout 3 - Game of the Year Edition', 'SEGA Genesis & Mega Drive Classics', 'Grand Theft Auto IV', 'Realm of the Mad God', 'Marvel Heroes 2015']\n"
          ]
        }
      ]
    },
    {
      "cell_type": "markdown",
      "metadata": {
        "id": "RTSuQZs4b1JU"
      },
      "source": [
        "---\n",
        "### Exercise 3 - count the number of times a title appears in the list\n",
        "\n",
        "Write a function which will:\n",
        "*  count the number of times that the title Fallout 4 appears in the list\n",
        "\n",
        "Expected output:  \n",
        "168"
      ]
    },
    {
      "cell_type": "code",
      "metadata": {
        "id": "OwhFnH2kdC11",
        "outputId": "8c08a1e1-21ad-4e15-e58f-390325c45209",
        "colab": {
          "base_uri": "https://localhost:8080/"
        }
      },
      "source": [
        "def count_title():\n",
        "\n",
        "    print(titles.count(\"Fallout 4\")) #Counting how many times Fallout 4 is in title list.\n",
        "\n",
        "count_title()"
      ],
      "execution_count": 15,
      "outputs": [
        {
          "output_type": "stream",
          "name": "stdout",
          "text": [
            "168\n"
          ]
        }
      ]
    },
    {
      "cell_type": "markdown",
      "metadata": {
        "id": "KS0x3oFNePI9"
      },
      "source": [
        "---\n",
        "### Exercise 4 - remove all duplicates of a title from the list\n",
        "\n",
        "Write a function which will: remove all occurences of Fallout 4 from the titles list (Hint:  you can remove an occurence of Fallout 4 repeatedly until there is only one left)\n"
      ]
    },
    {
      "cell_type": "code",
      "metadata": {
        "id": "mpK1Ip3we-uC",
        "outputId": "42f29eea-99d6-4ecb-ae30-a2fffe33b795",
        "colab": {
          "base_uri": "https://localhost:8080/"
        }
      },
      "source": [
        "def remove_duplicates():\n",
        "\n",
        "    for i in titles:\n",
        "      while titles.count(i) > 1:\n",
        "        titles.remove(i)\n",
        "    print(titles.count(\"Fallout 4\")) #Remove all dupes of Fallout 4 so only one remains.\n",
        "\n",
        "remove_duplicates()\n"
      ],
      "execution_count": 11,
      "outputs": [
        {
          "output_type": "stream",
          "name": "stdout",
          "text": [
            "1\n"
          ]
        }
      ]
    },
    {
      "cell_type": "markdown",
      "metadata": {
        "id": "deUIFWjRe-3G"
      },
      "source": [
        "---\n",
        "### Exercise 5 - print the counts of the first 10 titles in the list\n",
        "\n",
        "Write a function which will:\n",
        "* loop through the first 10 items in the titles list\n",
        "* for each item print the number of times that title appears in the list\n"
      ]
    },
    {
      "cell_type": "code",
      "metadata": {
        "id": "b9TrHQ9hfoIU",
        "outputId": "d5501cd4-4097-43e6-c390-565713794b14",
        "colab": {
          "base_uri": "https://localhost:8080/"
        }
      },
      "source": [
        "def print_count_of_first_ten():\n",
        "\n",
        "    for i in titles[:10]:\n",
        "      print(i, titles.count(i)) #Loop through first 10 items and count how many times they appear in the title list.\n",
        "\n",
        "users, titles = get_users_and_titles()\n",
        "print_count_of_first_ten()"
      ],
      "execution_count": 12,
      "outputs": [
        {
          "output_type": "stream",
          "name": "stdout",
          "text": [
            "The Elder Scrolls V Skyrim 717\n",
            "Fallout 4 168\n",
            "Spore 67\n",
            "Fallout New Vegas 337\n",
            "Left 4 Dead 2 951\n",
            "HuniePop 22\n",
            "Path of Exile 339\n",
            "Poly Bridge 12\n",
            "Left 4 Dead 281\n",
            "Team Fortress 2 2323\n"
          ]
        }
      ]
    },
    {
      "cell_type": "markdown",
      "metadata": {
        "id": "zm2VI5RmfoSy"
      },
      "source": [
        "---\n",
        "### Project - work as a team\n",
        "\n",
        "The users list has the ids of all the users who have purchased STEAM games.\n",
        "\n",
        "Write a function that will:\n",
        "* count how many games have been purchased by each user.  \n",
        "* calculate the percentage of all purchases made by each user\n",
        "* calculate the percentage of all purchases made by these 100 users altogether\n",
        "* find the id of the user who has purchased the most games of these 100 users \n",
        "* calculate the average number of games purchased by a user from the 100 \n",
        "* print this information, printing each unique user just once  \n",
        "Do the same with the last 100 users  \n",
        "\n",
        "Divide up the tasks and each write one part, then try to get them all to work together."
      ]
    },
    {
      "cell_type": "markdown",
      "source": [
        "### Practice 1\n",
        "---\n",
        "Get a list of unique user ids\n",
        "\n",
        "Write some code that will loop through the users list and add each new user id to a new list called **unique_users**\n",
        "\n",
        "**Expected output**:\n",
        "12393"
      ],
      "metadata": {
        "id": "rnEnIN0X_kR1"
      }
    },
    {
      "cell_type": "code",
      "source": [
        "# get list of unique user ids\n",
        "\n",
        "def get_unique_users():\n",
        "\n",
        "    unique_users = [] #Prepare the new list\n",
        "    for id in users:\n",
        "      unique_users.append(id)\n",
        "    unique_users.sort()\n",
        "\n",
        "    usercount = 0\n",
        "    for i in unique_users:\n",
        "      while unique_users.count(i) > 1:\n",
        "        unique_users.remove(i) #Remove Dupes.\n",
        "  \n",
        "    print(len(unique_users))\n",
        "\n",
        "get_unique_users()\n"
      ],
      "metadata": {
        "id": "gf7o-I1GAACe",
        "outputId": "48e6cea0-dfbf-4b25-c153-168ddbe3e038",
        "colab": {
          "base_uri": "https://localhost:8080/"
        }
      },
      "execution_count": 18,
      "outputs": [
        {
          "output_type": "stream",
          "name": "stdout",
          "text": [
            "12393\n"
          ]
        }
      ]
    },
    {
      "cell_type": "markdown",
      "source": [
        "### Practice 2\n",
        "---\n",
        "\n",
        "Write code that will create a subset of the unique_users list, containing just the first 100 users and called **hundred_users**.  Loop through the hundred_users list and for each, will print the number of games that user has purchased (`users.count(unique_user`)\n",
        "\n",
        "**Expected output**:\n",
        "```\n",
        "40\n",
        "1\n",
        "43\n",
        "505\n",
        "1\n",
        "...\n",
        "...\n",
        "2\n",
        "18\n",
        "27\n",
        "1\n",
        "33\n",
        "```"
      ],
      "metadata": {
        "id": "aaguOOlbArIN"
      }
    },
    {
      "cell_type": "code",
      "source": [
        "# print number of games purchased by each of first hundred users\n",
        "\n",
        "def get_num_games(users):\n",
        "\n",
        "    unique_users = [] #Prepare the new list\n",
        "    for id in users:\n",
        "      unique_users.append(id)\n",
        "    unique_users.sort()\n",
        "\n",
        "    usercount = 0\n",
        "    for i in unique_users:\n",
        "      while unique_users.count(i) > 1:\n",
        "        unique_users.remove(i) #Remove Dupes.\n",
        "\n",
        "    hundred_users = unique_users[:100] #New list of only 100 users.\n",
        "\n",
        "\n",
        "    for i in hundred_users: #i = ID the loop is showing how many times i is shown in original users list = how many games they have purchased on that id.\n",
        "      print(users.count(i)) #print how many times user came up.\n",
        "\n",
        "    \n",
        "  \n",
        "  \n",
        "    #print(len(hundred_users))\n",
        "\n",
        "users, titles = get_users_and_titles()\n",
        "get_num_games(users)"
      ],
      "metadata": {
        "id": "Q_Ov6QpjBIwN",
        "outputId": "d767856b-f2b2-4ff5-d7d0-1189c9cdb52d",
        "colab": {
          "base_uri": "https://localhost:8080/"
        }
      },
      "execution_count": 33,
      "outputs": [
        {
          "output_type": "stream",
          "name": "stdout",
          "text": [
            "21\n",
            "36\n",
            "82\n",
            "10\n",
            "8\n",
            "12\n",
            "27\n",
            "259\n",
            "14\n",
            "10\n",
            "25\n",
            "28\n",
            "148\n",
            "8\n",
            "8\n",
            "10\n",
            "8\n",
            "13\n",
            "10\n",
            "30\n",
            "8\n",
            "9\n",
            "12\n",
            "17\n",
            "14\n",
            "378\n",
            "8\n",
            "12\n",
            "23\n",
            "8\n",
            "8\n",
            "15\n",
            "22\n",
            "8\n",
            "8\n",
            "9\n",
            "9\n",
            "8\n",
            "10\n",
            "8\n",
            "28\n",
            "8\n",
            "8\n",
            "12\n",
            "12\n",
            "10\n",
            "152\n",
            "77\n",
            "10\n",
            "16\n",
            "61\n",
            "14\n",
            "35\n",
            "12\n",
            "203\n",
            "8\n",
            "15\n",
            "29\n",
            "8\n",
            "49\n",
            "118\n",
            "10\n",
            "8\n",
            "8\n",
            "12\n",
            "8\n",
            "8\n",
            "10\n",
            "98\n",
            "8\n",
            "12\n",
            "23\n",
            "14\n",
            "12\n",
            "8\n",
            "12\n",
            "27\n",
            "8\n",
            "8\n",
            "27\n",
            "11\n",
            "8\n",
            "8\n",
            "8\n",
            "8\n",
            "27\n",
            "10\n",
            "8\n",
            "8\n",
            "34\n",
            "33\n",
            "12\n",
            "8\n",
            "8\n",
            "12\n",
            "16\n",
            "8\n",
            "18\n",
            "8\n",
            "7\n"
          ]
        }
      ]
    },
    {
      "cell_type": "markdown",
      "source": [
        "### Practice 3\n",
        "---\n",
        "Write code to calculate the percentage that the first user in the unique_user list has purchased of all the purchases made by users.  Print the users id and the percentage\n",
        "\n",
        "*Hint*:  get the count for that user (as in the last practice), divide it by the number of purchase made (the length of the original users list) and multiply by 100\n",
        "\n",
        "**Expected output**:  \n",
        "`151603712 0.03 %`"
      ],
      "metadata": {
        "id": "o4dWTE6aCBBb"
      }
    },
    {
      "cell_type": "code",
      "source": [
        "# Find percentage purchases bought by first user\n",
        "\n",
        "def get_percentage_purchase():\n",
        "\n",
        "\n",
        "    unique_users = [] #Prepare the new list\n",
        "    for id in users:\n",
        "      unique_users.append(id)\n",
        "    unique_users.sort()\n",
        "\n",
        "    usercount = 0\n",
        "    for i in unique_users:\n",
        "      while unique_users.count(i) > 1:\n",
        "        unique_users.remove(i) #Remove Dupes.\n",
        "\n",
        "    hundred_users = unique_users[:100] #New list of only 100 users.\n",
        "\n",
        "    for id in hundred_users[:1]: #for user 1 in hundred users \n",
        "        num_games = users.count(id) + 1 #Finding out how many games each user bought by counting occurences in old list\n",
        "        percentage = num_games / len(users) * 100 #Percentage of purchase = the number of times the user was in users list divided by the amount of users in users list x 100\n",
        "        print(\"User ID: \",hundred_users[:1],\"Percentage: \", round(percentage,2), \"%\") #Displaying both the ID and % rounded to two decimal places\n",
        "\n",
        "\n",
        "get_percentage_purchase()"
      ],
      "metadata": {
        "id": "corMMlyOCkON",
        "outputId": "fff6cf6b-88b4-4082-ef53-cd1297831f79",
        "colab": {
          "base_uri": "https://localhost:8080/"
        }
      },
      "execution_count": 54,
      "outputs": [
        {
          "output_type": "stream",
          "name": "stdout",
          "text": [
            "User ID:  [5250] Percentage:  0.02 %\n"
          ]
        }
      ]
    },
    {
      "cell_type": "markdown",
      "source": [
        "### Practice 4\n",
        "---\n",
        "Write some code that will loop through the `hundred_users` and find the id of the user with the largest number of purchases\n",
        "\n",
        "**Expected output**:  \n",
        "```\n",
        "53875128\n",
        "```\n"
      ],
      "metadata": {
        "id": "vnOxgvPhE0M9"
      }
    },
    {
      "cell_type": "code",
      "source": [
        "# find user who has made most purchases\n",
        "\n",
        "def max_purchase():\n",
        "\n",
        "    unique_users = [] #Prepare the new list\n",
        "    for id in users:\n",
        "      unique_users.append(id)\n",
        "    unique_users.sort()\n",
        "\n",
        "    usercount = 0\n",
        "    for i in unique_users:\n",
        "      while unique_users.count(i) > 1:\n",
        "        unique_users.remove(i) #Remove Dupes.\n",
        "\n",
        "    hundred_users = unique_users[:100] #New list of only 100 users.\n",
        "\n",
        "    max_purchase = 0\n",
        "    max_userID = 0\n",
        "    for user in hundred_users: #for every user in hundred_users \n",
        "        num_games = users.count(user) #number of games = the occurence of user in original users list\n",
        "        if num_games > max_purchase: #if num games is greater than last loop round, assign to max purchase\n",
        "          max_purchase = num_games\n",
        "          max_userID = user\n",
        "\n",
        "    print(\"User ID: \",max_userID, \"Purchase count: \",max_purchase)\n",
        "      \n",
        "\n",
        "max_purchase()"
      ],
      "metadata": {
        "id": "jO3NmUwjFLNO",
        "outputId": "fb2eca69-d027-4c37-e1b7-13f09805d4d4",
        "colab": {
          "base_uri": "https://localhost:8080/"
        }
      },
      "execution_count": 73,
      "outputs": [
        {
          "output_type": "stream",
          "name": "stdout",
          "text": [
            "User ID:  975449 Purchase count:  378\n"
          ]
        }
      ]
    },
    {
      "cell_type": "markdown",
      "source": [
        "### Practice 5\n",
        "---\n",
        "Write some code that will loop through the `hundred_users`, add all the purchases made by them, then calculate this as a percentage of the total number of purchases made (as before)  divide by 100 (the number of users in this list) to get the average.\n",
        "\n",
        "**Expected output**:  \n",
        "```\n",
        "0.01 %\n",
        "\n",
        "```"
      ],
      "metadata": {
        "id": "Gsixx_x-FLWr"
      }
    },
    {
      "cell_type": "code",
      "source": [
        "# find percentage of total purchases made by first hundred users\n",
        "\n",
        "def find_percentage():\n",
        "\n",
        "    unique_users = [] #Prepare the new list\n",
        "    for id in users:\n",
        "      unique_users.append(id)\n",
        "    unique_users.sort() #Sort the list.\n",
        "\n",
        "    usercount = 0\n",
        "    for i in unique_users:\n",
        "      while unique_users.count(i) > 1: #If user is counted more than once\n",
        "       unique_users.remove(i) #Remove Dupes.\n",
        "\n",
        "    hundred_users = unique_users[:100] #New list of only 100 users.\n",
        "    \n",
        "    hundred_total = 0\n",
        "    for user in hundred_users: #for every user in hundred users \n",
        "        while users.count(user) > 1:\n",
        "          hundred_total + 1\n",
        "        #num_games = users.count(user) + 1 #number of games they purchased\n",
        "        #if num_games > 1:\n",
        "          #hundred_total += num_games\n",
        "        print(hundred_total)\n",
        "\n",
        "\n",
        "\n",
        "find_percentage()"
      ],
      "metadata": {
        "id": "MD8nr8yYFaNI",
        "outputId": "ffc725b6-520f-4991-baee-ea3a184ab70a",
        "colab": {
          "base_uri": "https://localhost:8080/",
          "height": 335
        }
      },
      "execution_count": 87,
      "outputs": [
        {
          "output_type": "error",
          "ename": "KeyboardInterrupt",
          "evalue": "ignored",
          "traceback": [
            "\u001b[0;31m---------------------------------------------------------------------------\u001b[0m",
            "\u001b[0;31mKeyboardInterrupt\u001b[0m                         Traceback (most recent call last)",
            "\u001b[0;32m<ipython-input-87-966a987318af>\u001b[0m in \u001b[0;36m<module>\u001b[0;34m()\u001b[0m\n\u001b[1;32m     26\u001b[0m \u001b[0;34m\u001b[0m\u001b[0m\n\u001b[1;32m     27\u001b[0m \u001b[0;34m\u001b[0m\u001b[0m\n\u001b[0;32m---> 28\u001b[0;31m \u001b[0mfind_percentage\u001b[0m\u001b[0;34m(\u001b[0m\u001b[0;34m)\u001b[0m\u001b[0;34m\u001b[0m\u001b[0;34m\u001b[0m\u001b[0m\n\u001b[0m",
            "\u001b[0;32m<ipython-input-87-966a987318af>\u001b[0m in \u001b[0;36mfind_percentage\u001b[0;34m()\u001b[0m\n\u001b[1;32m     17\u001b[0m     \u001b[0mhundred_total\u001b[0m \u001b[0;34m=\u001b[0m \u001b[0;36m0\u001b[0m\u001b[0;34m\u001b[0m\u001b[0;34m\u001b[0m\u001b[0m\n\u001b[1;32m     18\u001b[0m     \u001b[0;32mfor\u001b[0m \u001b[0muser\u001b[0m \u001b[0;32min\u001b[0m \u001b[0mhundred_users\u001b[0m\u001b[0;34m:\u001b[0m \u001b[0;31m#for every user in hundred users\u001b[0m\u001b[0;34m\u001b[0m\u001b[0;34m\u001b[0m\u001b[0m\n\u001b[0;32m---> 19\u001b[0;31m         \u001b[0;32mwhile\u001b[0m \u001b[0musers\u001b[0m\u001b[0;34m.\u001b[0m\u001b[0mcount\u001b[0m\u001b[0;34m(\u001b[0m\u001b[0muser\u001b[0m\u001b[0;34m)\u001b[0m \u001b[0;34m>\u001b[0m \u001b[0;36m1\u001b[0m\u001b[0;34m:\u001b[0m\u001b[0;34m\u001b[0m\u001b[0;34m\u001b[0m\u001b[0m\n\u001b[0m\u001b[1;32m     20\u001b[0m           \u001b[0mhundred_total\u001b[0m \u001b[0;34m+\u001b[0m \u001b[0;36m1\u001b[0m\u001b[0;34m\u001b[0m\u001b[0;34m\u001b[0m\u001b[0m\n\u001b[1;32m     21\u001b[0m         \u001b[0;31m#num_games = users.count(user) + 1 #number of games they purchased\u001b[0m\u001b[0;34m\u001b[0m\u001b[0;34m\u001b[0m\u001b[0;34m\u001b[0m\u001b[0m\n",
            "\u001b[0;31mKeyboardInterrupt\u001b[0m: "
          ]
        }
      ]
    },
    {
      "cell_type": "markdown",
      "source": [
        "### Practice 6\n",
        "---\n",
        "\n",
        "Write some code that will loop through the `hundred_users`, add all the purchases made by them, then divide by 100 (the number of users in this list) to get the average.\n",
        "\n",
        "**Expected output**:  \n",
        "```\n",
        "16.46\n",
        "\n",
        "```"
      ],
      "metadata": {
        "id": "M1bFW6XVFaaA"
      }
    },
    {
      "cell_type": "code",
      "source": [
        "# find average number of purchases made by first 100 users\n"
      ],
      "metadata": {
        "id": "JBSp_focFvRO"
      },
      "execution_count": null,
      "outputs": []
    },
    {
      "cell_type": "markdown",
      "source": [
        "### Practice 7\n",
        "---\n",
        "Put all the above together into a function, and add code to print the average number of games per user, the user id of the user with the maximum number of purchases, and a list of the hundred users ids and the percentage each has purchased"
      ],
      "metadata": {
        "id": "uJlVJSMOFv80"
      }
    },
    {
      "cell_type": "code",
      "source": [
        "def process_user_purchases():\n",
        "\n",
        "\n",
        "\n",
        "process_user_purchases()"
      ],
      "metadata": {
        "id": "HQtJd18eGSrf"
      },
      "execution_count": null,
      "outputs": []
    }
  ]
}