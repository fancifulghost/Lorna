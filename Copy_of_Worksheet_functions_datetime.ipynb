{
  "cells": [
    {
      "cell_type": "markdown",
      "metadata": {
        "id": "view-in-github",
        "colab_type": "text"
      },
      "source": [
        "<a href=\"https://colab.research.google.com/github/fancifulghost/Lorna/blob/main/Copy_of_Worksheet_functions_datetime.ipynb\" target=\"_parent\"><img src=\"https://colab.research.google.com/assets/colab-badge.svg\" alt=\"Open In Colab\"/></a>"
      ]
    },
    {
      "cell_type": "markdown",
      "metadata": {
        "id": "7iQyKP-SQiw1"
      },
      "source": [
        "# User-defined functions using datetime library\n",
        "\n",
        "---\n"
      ]
    },
    {
      "cell_type": "markdown",
      "metadata": {
        "id": "Vi93h5I4QnKs"
      },
      "source": [
        "When working with dates and times, fairly common in data sets, we need to be able to extract certain bits of information.  \n",
        "\n",
        "In Python, as with other languages, dates and times are stored in a data structure that combines the two together and stores the information as a number of seconds since a start point (often 1st January 1900).  This is obviously a large number but every bit of information about a date can be extracted from it and used to give a wide range of information.  \n",
        "\n",
        "Have a go at the exercises below to use a selection of datetime functions and return a new bit of data from each, to be printed by the caller.\n",
        "\n",
        "Before you can use datetime functions you will need to import them. Import the datetime functions like this:\n",
        "\n",
        "`from datetime import datetime`  \n",
        "\n",
        "\n",
        "For more information about datetime functions visit [w3Schools-Python datetime](https://www.w3schools.com/python/python_datetime.asp) and [Python docs](https://docs.python.org/3/library/datetime.html)"
      ]
    },
    {
      "cell_type": "markdown",
      "metadata": {
        "id": "MIDLi7CNR034"
      },
      "source": [
        "---\n",
        "### Exercise 1 - print current date and time\n",
        "\n",
        "Write a function that will return the date and time now.  The caller will print it.  \n",
        "\n",
        "*Hint:  the format has been added for you, the other exercises will follow a similar format.   Always remember to import datetime from datetime as shown below*"
      ]
    },
    {
      "cell_type": "code",
      "execution_count": 1,
      "metadata": {
        "id": "gS6GJdXbQfHp",
        "colab": {
          "base_uri": "https://localhost:8080/"
        },
        "outputId": "f6cf1c80-86d0-4792-c69a-280b52694c7c"
      },
      "outputs": [
        {
          "output_type": "stream",
          "name": "stdout",
          "text": [
            "2022-03-14 10:35:22.128324\n"
          ]
        }
      ],
      "source": [
        "from datetime import datetime, timezone\n",
        "# add your function, called get_datetime_now() below here\n",
        "\n",
        "def get_datetime_now():\n",
        "\n",
        "  now_date_time = datetime.now()\n",
        "\n",
        "\n",
        "  print(now_date_time)\n",
        "\n",
        "get_datetime_now()\n"
      ]
    },
    {
      "cell_type": "markdown",
      "metadata": {
        "id": "Yy24sL0bUtpF"
      },
      "source": [
        "---\n",
        "Exercise 2 - print the current year\n",
        "\n",
        "Write a function that will return the current year.  The caller will print the year."
      ]
    },
    {
      "cell_type": "code",
      "execution_count": 2,
      "metadata": {
        "id": "YqlQqPIqUtyr",
        "colab": {
          "base_uri": "https://localhost:8080/"
        },
        "outputId": "05af8460-cfbf-456a-8d37-f491b3d39dbe"
      },
      "outputs": [
        {
          "output_type": "stream",
          "name": "stdout",
          "text": [
            "2022\n"
          ]
        }
      ],
      "source": [
        "from datetime import datetime, timezone\n",
        "\n",
        "def current_year():\n",
        "\n",
        "  print(datetime.today().strftime('%Y'))\n",
        "\n",
        "current_year()"
      ]
    },
    {
      "cell_type": "markdown",
      "metadata": {
        "id": "FzSVCaJKV1O1"
      },
      "source": [
        "---\n",
        "### Exercise 3 - print the current day of the week\n",
        "\n",
        "Write a function that will return the current day of the week.  The caller will print it."
      ]
    },
    {
      "cell_type": "code",
      "execution_count": 3,
      "metadata": {
        "colab": {
          "base_uri": "https://localhost:8080/"
        },
        "id": "OP4ZIXBWV1Yj",
        "outputId": "f4a046c0-68ad-465b-b33c-823805a19b94"
      },
      "outputs": [
        {
          "output_type": "stream",
          "name": "stdout",
          "text": [
            "Monday\n"
          ]
        }
      ],
      "source": [
        "from datetime import datetime, timezone\n",
        "\n",
        "def current_weekday():\n",
        "\n",
        "  print(datetime.today().strftime('%A'))\n",
        "\n",
        "current_weekday()"
      ]
    },
    {
      "cell_type": "markdown",
      "metadata": {
        "id": "a8euCtdmWIDE"
      },
      "source": [
        "---\n",
        "### Exercise 4 - create a new date\n",
        "\n",
        "Write a function that will take 3 parameters, day, month, year (3 numbers that make a valid date) and will create, and return a new date.  The caller will print the date."
      ]
    },
    {
      "cell_type": "code",
      "execution_count": 90,
      "metadata": {
        "id": "FbOFnTwnWILN",
        "colab": {
          "base_uri": "https://localhost:8080/"
        },
        "outputId": "165522b9-090e-472e-bb32-6967b4f9a2f3"
      },
      "outputs": [
        {
          "output_type": "stream",
          "name": "stdout",
          "text": [
            "2005-07-04\n"
          ]
        }
      ],
      "source": [
        "import random \n",
        "from datetime import date\n",
        "\n",
        "def new_date():\n",
        "\n",
        "    start = date(1900, 1, 1) \n",
        "    end = date(2022, 12, 31) \n",
        "    random_date = start + (end - start) * random.random() \n",
        "    print(random_date)\n",
        "\n",
        "new_date()"
      ]
    },
    {
      "cell_type": "markdown",
      "metadata": {
        "id": "f5SKVuE0WfcE"
      },
      "source": [
        "---\n",
        "### Exercise 5 - create a valid date\n",
        "\n",
        "Write a function that will take 3 parameters, day, month, year (3 numbers) and will:  \n",
        "*   check that the month is between 1 and 12  \n",
        "*   check that the day is valid for the month (e.g. if the month is 2, then the day must be between 1 and 28 (don't worry about leap years for the moment)  \n",
        "*   if the date is not valid, print an error message and return None (which the caller will print)  \n",
        "*   if the date is valid, store it in a new variable, return the variable and the caller will print it."
      ]
    },
    {
      "cell_type": "code",
      "execution_count": 170,
      "metadata": {
        "colab": {
          "base_uri": "https://localhost:8080/"
        },
        "id": "gclt-f9-XfdG",
        "outputId": "4155df3b-cd9c-43b5-a4dc-443158854460"
      },
      "outputs": [
        {
          "output_type": "execute_result",
          "data": {
            "text/plain": [
              "datetime.date(1993, 5, 15)"
            ]
          },
          "metadata": {},
          "execution_count": 170
        }
      ],
      "source": [
        "import datetime\n",
        "\n",
        "def valid_date(day, month, year):\n",
        "\n",
        "      if day > 0:\n",
        "        if month in [1, 3, 5 , 7, 8, 10, 12] and day < 32:\n",
        "          return date(year, month, day)\n",
        "      elif month in [4, 6, 9, 11] and day < 31:\n",
        "        return date(year, month, day)\n",
        "      elif month in [2] and day < 29:\n",
        "        return date(year, month, day)\n",
        "      else:\n",
        "        print(\"This date is not valid.\")\n",
        "        return None\n",
        "\n",
        "valid_date(15, 5, 1993)"
      ]
    },
    {
      "cell_type": "markdown",
      "metadata": {
        "id": "js7fy2HWXfm2"
      },
      "source": [
        "\n",
        "### Exercise 6 - is it a leap year?\n",
        "\n",
        "Write a function that will take a date as a parameter (you will need to create the date variable before calling the function) and will determine if it is a leap year, returning True or False.\n",
        "\n",
        "*Hint:  a leap year is a year that is divisible by 4 but the centuries (1900, 2000, etc are only leap years if they are divisible by 400)*"
      ]
    },
    {
      "cell_type": "code",
      "execution_count": 165,
      "metadata": {
        "id": "KY1jtf3lX_ps",
        "colab": {
          "base_uri": "https://localhost:8080/"
        },
        "outputId": "d0dc99d7-5b05-43eb-ab42-fe8dbd59bad7"
      },
      "outputs": [
        {
          "output_type": "stream",
          "name": "stdout",
          "text": [
            "2018 is not a leap year\n"
          ]
        }
      ],
      "source": [
        "from datetime import datetime\n",
        "\n",
        "def is_leap_year(date_to_check):\n",
        "\n",
        "  if date_to_check.year % 4 == 0 or date_to_check.year % 400 == 0:\n",
        "    return True\n",
        "  else:\n",
        "    return False\n",
        "\n",
        "check_date = datetime(2018, 12, 15)\n",
        "if is_leap_year(check_date):\n",
        "  print(check_date.strftime(\"%Y\"), \"is a leap year\")\n",
        "else:\n",
        "  print(check_date.strftime(\"%Y\"), \"is not a leap year\")\n",
        "\n",
        "\n",
        "\n",
        "    "
      ]
    },
    {
      "cell_type": "markdown",
      "metadata": {
        "id": "9BuRDi08YAO0"
      },
      "source": [
        "---\n",
        "### Exercise 7 - display parts of date/time\n",
        "\n",
        "Write a function that will take a date and print from it the following:  \n",
        "*  given date and time  \n",
        "*  year (in full) \n",
        "*  month (as a number) \n",
        "*  month name \n",
        "*  week number of the year  \n",
        "*  weekday of the week (as a number)  \n",
        "*  day of year  \n",
        "*  day of the month  \n",
        "*  day of week (as a name)  \n",
        "\n",
        "*Hint:  see w3Schools for [strftime reference](https://www.w3schools.com/python/python_datetime.asp)*\n",
        "\n"
      ]
    },
    {
      "cell_type": "code",
      "execution_count": 109,
      "metadata": {
        "id": "zl-37Ez9ahym",
        "colab": {
          "base_uri": "https://localhost:8080/"
        },
        "outputId": "99071308-a13f-417f-f8a5-ca15661b1abc"
      },
      "outputs": [
        {
          "output_type": "stream",
          "name": "stdout",
          "text": [
            "Year: 2020 \n",
            "Month as Number: 10 \n",
            "Month: October \n",
            "Week Number of the Year: 41 \n",
            "Weekday of the Week as Number: 5 \n",
            "Day of the Year: 290 \n",
            "Day of the Month: 16 \n",
            "Day of the Week: Friday\n"
          ]
        }
      ],
      "source": [
        "import datetime\n",
        "\n",
        "def get_date():\n",
        "\n",
        "\n",
        "    mugenTrain = datetime.datetime(2020, 10, 16)\n",
        "    print(mugenTrain.strftime(\"Year: %Y \\nMonth as Number: %m \\nMonth: %B \\nWeek Number of the Year: %W \\nWeekday of the Week as Number: %w \\nDay of the Year: %j \\nDay of the Month: %d \\nDay of the Week: %A\"))\n",
        "\n",
        "\n",
        "get_date()"
      ]
    },
    {
      "cell_type": "markdown",
      "metadata": {
        "id": "_rpTIoSDaiBj"
      },
      "source": [
        "---\n",
        "### Exercise 8 - next 6 days\n",
        "\n",
        "Write a function that will take a date and generate the dates of the following 6 days.  It should print each of the 6 days in the form:  \n",
        "\n",
        "DAY OF THE WEEK, MONTH NAME, FULL YEAR\n",
        "\n",
        "Hint:  to generate the days, use the function datetime.timedelta(), there is a good example of its use [here](https://www.geeksforgeeks.org/python-datetime-timedelta-function/)  "
      ]
    },
    {
      "cell_type": "code",
      "execution_count": 92,
      "metadata": {
        "id": "1d-oXqLLb0vX",
        "colab": {
          "base_uri": "https://localhost:8080/"
        },
        "outputId": "011d7d77-b1c2-4b8c-e8cb-e08edffec614"
      },
      "outputs": [
        {
          "output_type": "stream",
          "name": "stdout",
          "text": [
            "Tuesday 15 March, 2022\n",
            "Wednesday 16 March, 2022\n",
            "Thursday 17 March, 2022\n",
            "Friday 18 March, 2022\n",
            "Saturday 19 March, 2022\n",
            "Sunday 20 March, 2022\n"
          ]
        }
      ],
      "source": [
        "import datetime\n",
        "\n",
        "def next_six_days():\n",
        "    current_date = datetime.date.today()\n",
        "    for x in range(1, 7):\n",
        "      next_days = current_date + datetime.timedelta(days=x)\n",
        "      print(next_days.strftime(\"%A %d %B, %Y\"))\n",
        "next_six_days()"
      ]
    },
    {
      "cell_type": "markdown",
      "metadata": {
        "id": "22Rhwx2Sb1Ey"
      },
      "source": [
        "---\n",
        "### Optional extra practice\n",
        "\n",
        "There are some similar and some more challenging exercises [here](https://www.w3resource.com/python-exercises/date-time-exercise/) if you would like to practice more. The site has its own editor."
      ]
    }
  ],
  "metadata": {
    "colab": {
      "collapsed_sections": [],
      "name": "Copy of Worksheet-functions-datetime.ipynb",
      "provenance": [],
      "include_colab_link": true
    },
    "kernelspec": {
      "display_name": "Python 3",
      "name": "python3"
    },
    "language_info": {
      "name": "python"
    }
  },
  "nbformat": 4,
  "nbformat_minor": 0
}