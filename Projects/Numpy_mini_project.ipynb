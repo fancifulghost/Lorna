{
  "nbformat": 4,
  "nbformat_minor": 0,
  "metadata": {
    "colab": {
      "name": "Copy of Numpy mini-project.ipynb",
      "provenance": [],
      "collapsed_sections": [],
      "include_colab_link": true
    },
    "kernelspec": {
      "name": "python3",
      "display_name": "Python 3"
    },
    "language_info": {
      "name": "python"
    }
  },
  "cells": [
    {
      "cell_type": "markdown",
      "metadata": {
        "id": "view-in-github",
        "colab_type": "text"
      },
      "source": [
        "<a href=\"https://colab.research.google.com/github/fancifulghost/Lorna/blob/main/Copy_of_Numpy_mini_project.ipynb\" target=\"_parent\"><img src=\"https://colab.research.google.com/assets/colab-badge.svg\" alt=\"Open In Colab\"/></a>"
      ]
    },
    {
      "cell_type": "markdown",
      "source": [
        "# Investigate, wrangle, add new data to the dataframe, filter and correlate\n",
        "\n",
        "The following data file contains data about student scores in math, reading and writing.  The exam scores are assumed to be percentages. It also contains data about gender, ethnicity, parental education, whether the student qualifies for free school food and whether or not the student has taken a preparation course for the exams.  The data set has already been cleaned. \n",
        "\n",
        "1.  Investigate the data set.\n",
        "\n",
        "2.  Create numpy arrays to hold each of the three sets of scores.  \n",
        "Create a new numpy array to hold the average exam score (of the three scores for each student)\n",
        "Add the new numpy array as a new column in the dataframe.\n",
        "\n",
        "3.  Filter the original dataset into a new dataframe containing just the females.  Calculate the average exam scores for all rows in this new dataframe and then find the mean of the average column.\n",
        "\n",
        "4.  Do the same for the males.\n",
        "\n",
        "5.  Use the original dataset to find the correlation coefficient for reading and maths.  How closely do they correlate?  Write what you find in a text box below the code.\n",
        "\n",
        "6.  Do the same for reading and writing. What do you find?\n",
        "\n",
        "7.  You might want to filter on different criteria and check correlation (e.g. those on free school meals, or those who had prepared, etc)\n",
        "\n",
        "\n",
        "\n",
        "\n",
        "\n"
      ],
      "metadata": {
        "id": "8qnlsapq24Df"
      }
    },
    {
      "cell_type": "markdown",
      "source": [
        "The dataset can be accessed here:  https://raw.githubusercontent.com/lilaceri/Working-with-data-/main/Data%20Sets%20for%20code%20divisio/exams.csv.  This is a .csv file.\n",
        "\n",
        "**NOTE:** Some useful references are included at the bottom of this spreadsheet.\n",
        "\n",
        "Use the code cell below to work your code."
      ],
      "metadata": {
        "id": "SSvLiFnp4LjG"
      }
    },
    {
      "cell_type": "code",
      "source": [
        "import pandas as pd\n",
        "import numpy as np\n",
        "\n",
        "url = \"https://raw.githubusercontent.com/lilaceri/Working-with-data-/main/Data%20Sets%20for%20code%20divisio/exams.csv\"\n",
        "df = pd.read_csv(url)\n",
        "#df.info()\n",
        "\n",
        "def score_data():\n",
        "\n",
        "    math_scores = df['math_score'].to_numpy('int64')\n",
        "    reading_scores = df['reading_score'].to_numpy('int64')\n",
        "    writing_scores = df['writing_score'].to_numpy('int64')\n",
        "    average_score = np.array((math_scores + reading_scores + writing_scores) / 3)\n",
        "    df['average_score'] = average_score.tolist()\n",
        "#    display(df)\n",
        "\n",
        "    female_df = df[df['gender'] == 'female']\n",
        "    female_average = female_df['average_score'].mean()\n",
        "    print(\"Average score for females:\", female_average)\n",
        "\n",
        "    male_df = df[df['gender'] == 'male']\n",
        "    male_average = male_df['average_score'].mean()\n",
        "    print(\"Average score for males:\", male_average)\n",
        "\n",
        "    coef = np.corrcoef(reading_scores, math_scores)\n",
        "    print(\"\\nCorrelation coefficient for reading and maths:\",\"\\n \\n\", coef)\n",
        "\n",
        "    coef2 = np.corrcoef(reading_scores, writing_scores)\n",
        "    print(\"\\nCorrelation coefficient for reading and writing:\",\"\\n \\n\", coef2)\n",
        "\n",
        "    free_meal = df[df['lunch'] == 'free/reduced']\n",
        "    free_average = free_meal['average_score'].mean()\n",
        "    print(\"\\nAverage score for students who got free meals:\",free_average)\n",
        "\n",
        "    standard_meal = df[df['lunch'] == 'standard']\n",
        "    standard_average = standard_meal['average_score'].mean()\n",
        "    print(\"Average score for students who got standard meals:\",standard_average)\n",
        "    \n",
        "#    free_score = free_meal['average_score'].to_numpy('int64')\n",
        "#    standard_score = standard_meal['average_score'].to_numpy('int64')\n",
        "\n",
        "\n",
        "    prep = df[df['preparation_course'] == 'completed']\n",
        "    prep_average = prep['average_score'].mean()\n",
        "    print(\"\\nAverage score for students who completed preparation courses:\",prep_average)\n",
        "\n",
        "    none = df[df['preparation_course'] == 'none']\n",
        "    none_average = none['average_score'].mean()\n",
        "    print(\"Average score for students who didn't attend preparation courses:\",none_average)\n",
        "\n",
        "    \n",
        "\n",
        "\n",
        "\n",
        "score_data()"
      ],
      "metadata": {
        "id": "txM4TIRUHhsJ",
        "colab": {
          "base_uri": "https://localhost:8080/"
        },
        "outputId": "49877f21-3fd3-4cfa-cb3b-09824b48b764"
      },
      "execution_count": null,
      "outputs": [
        {
          "output_type": "stream",
          "name": "stdout",
          "text": [
            "Average score for females: 70.81989247311829\n",
            "Average score for males: 65.99272486772489\n",
            "\n",
            "Correlation coefficient for reading and maths: \n",
            " \n",
            " [[1.         0.81459752]\n",
            " [0.81459752 1.        ]]\n",
            "\n",
            "Correlation coefficient for reading and writing: \n",
            " \n",
            " [[1.         0.95676863]\n",
            " [0.95676863 1.        ]]\n",
            "\n",
            "Average score for students who got free meals: 62.33994334277618\n",
            "Average score for students who got standard meals: 71.68624420401852\n",
            "\n",
            "Average score for students who completed preparation courses: 72.95948434622474\n",
            "Average score for students who didn't attend preparation courses: 65.7925809822362\n"
          ]
        }
      ]
    },
    {
      "cell_type": "markdown",
      "source": [
        "### Helpful references\n",
        "---\n",
        "\n",
        "Filtering on criteria using df references:  \n",
        "`filtered_df = df[df['column name' == value]]`  \n",
        "\n",
        "Filtering on multiple criteria using df reference:  \n",
        "`filtered_df = df[df['first column name' == value] & df[second column name] >= value]`\n",
        "\n",
        "Numpy help sheet:  http://datacamp-community-prod.s3.amazonaws.com/da466534-51fe-4c6d-b0cb-154f4782eb54\n",
        "\n"
      ],
      "metadata": {
        "id": "hkj-Ofus_D6_"
      }
    }
  ]
}
