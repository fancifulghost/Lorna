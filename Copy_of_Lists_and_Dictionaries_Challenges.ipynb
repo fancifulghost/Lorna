{
  "nbformat": 4,
  "nbformat_minor": 0,
  "metadata": {
    "colab": {
      "name": "Copy of Lists and Dictionaries Challenges.ipynb",
      "provenance": [],
      "collapsed_sections": [],
      "include_colab_link": true
    },
    "kernelspec": {
      "name": "python3",
      "display_name": "Python 3"
    },
    "language_info": {
      "name": "python"
    }
  },
  "cells": [
    {
      "cell_type": "markdown",
      "metadata": {
        "id": "view-in-github",
        "colab_type": "text"
      },
      "source": [
        "<a href=\"https://colab.research.google.com/github/fancifulghost/Lorna/blob/main/Copy_of_Lists_and_Dictionaries_Challenges.ipynb\" target=\"_parent\"><img src=\"https://colab.research.google.com/assets/colab-badge.svg\" alt=\"Open In Colab\"/></a>"
      ]
    },
    {
      "cell_type": "markdown",
      "metadata": {
        "id": "nEJLJX3J9B2k"
      },
      "source": [
        "# Some challenges to help you become more confident with using Lists, Tuples and Dictionaries\n",
        "\n",
        "---\n",
        "\n"
      ]
    },
    {
      "cell_type": "markdown",
      "metadata": {
        "id": "JvV6htgh9Nc1"
      },
      "source": [
        "### Exercise 1 - extending a list\n",
        "\n",
        "There are three ways to extend a list in Python:  \n",
        "*  use `list_name.append(item)`, `list_name.insert(item)`\n",
        "*  concatenate two lists using the + operator (e.g. new_list = list1 + list2)\n",
        "*  use `list1_name.extend(list2_name)`\n",
        "\n",
        "The last method allows us to add all the `list2` items onto `list1` and for the new, extended list to now be `list1`.  `list2` will always be added to the end of `list1`.  \n",
        "\n",
        "If the objective is to add list2 before list1 then use `list2.extend(list1)`\n",
        "\n",
        "Write a function which will:  \n",
        "*  create a list of **years** containing the years 1960, 1970, 1980, 1990, 2000  \n",
        "*  print the list of years  \n",
        "*  calculate how long ago each year was and print the year and how long ago it was (e.g. 1990 was 30 years ago)  *(Hint:  use the datetime library to get the current year)*   \n",
        "*  create a second list, **years2** containing the years 2010 and 2020, extend `years` to include these later years\n",
        "*  create a third list, **years3** containing the years 1930, 1940 and 1950 and extend the list to include all the years between 1930 and 2020\n",
        "*  print the final list\n",
        "\n",
        "Expected output:  \n",
        "[1960, 1970, 1980, 1990]  \n",
        "1960 was 61 years ago  \n",
        "1970 was 51 years ago  \n",
        "1980 was 41 years ago  \n",
        "1990 was 31 years ago  \n",
        "2000 was 21 years ago  \n",
        "[1930, 1940, 1950, 1960, 1970, 1980, 1990, 2000, 2010, 2020] "
      ]
    },
    {
      "cell_type": "code",
      "metadata": {
        "id": "QAyTVqoO8-08",
        "colab": {
          "base_uri": "https://localhost:8080/"
        },
        "outputId": "a24bc7c6-d7bb-487a-a9a2-261f74a41b64"
      },
      "source": [
        "from datetime import datetime                    #Import datetime to use within the module.\n",
        "\n",
        "def list_of_years():\n",
        "\n",
        "    years = [1960, 1970, 1980, 1990, 2000]       #Created first list of years.\n",
        "    print(years)\n",
        "\n",
        "    current_year = datetime.now().year\n",
        "\n",
        "    for y in years:                              #For every y (year) in the years list:\n",
        "      sum = current_year - y                     #Sum = current_year (from datetime: 2022) - y (year in the years list).\n",
        "      print(y,\"was\",sum,\"years ago.\")            #Print all the years in the list with the relevant sum.\n",
        "\n",
        "    years2 = [2010, 2020]                        #Created second list of years: years2.\n",
        "\n",
        "    years.extend(years2)                         #Extended years2 to the previous list years (years2 will go to the end of years).\n",
        "\n",
        "    years3 = [1930, 1940, 1950]                  #Created new list of years: years3.\n",
        "\n",
        "    years3.extend(years)                         #Extended previous list years onto the end of the new list years3.\n",
        "    print(years3)                                #Printed new list that contains the years from all three lists.\n",
        "\n",
        "\n",
        "list_of_years()"
      ],
      "execution_count": 14,
      "outputs": [
        {
          "output_type": "stream",
          "name": "stdout",
          "text": [
            "[1960, 1970, 1980, 1990, 2000]\n",
            "1960 was 62 years ago.\n",
            "1970 was 52 years ago.\n",
            "1980 was 42 years ago.\n",
            "1990 was 32 years ago.\n",
            "2000 was 22 years ago.\n",
            "[1930, 1940, 1950, 1960, 1970, 1980, 1990, 2000, 2010, 2020]\n"
          ]
        }
      ]
    },
    {
      "cell_type": "markdown",
      "metadata": {
        "id": "S5iPicFzBzOW"
      },
      "source": [
        "---\n",
        "### Exercise 2 - creating a dictionary from a tuple and three lists\n",
        "\n",
        "Write a function which will create a list of dictionary items using the values in a tuple as the dictionary keys and the values in three corresponding lists as the dictionary values.\n",
        "\n",
        "*  loop through the status items in the tuple called task_status\n",
        "*  for each status, loop through the list with the same name (*Hint:  you can use eval(status) to access the list with the matching name  e.g. for task in eval(status)* )\n",
        "*  each time round this second loop, create a dictionary object with the  key:value pair {status : task}\n",
        "*  add each new dictionary to a list called **project_board** that was created as an empty list before the loops  \n",
        "*  print the project_board list\n",
        "\n",
        "Expected output:  \n",
        "\n",
        "[{'assigned': 'task1'}, {'assigned': 'task2'}, {'assigned': 'task3'}, {'inprogress': 'task4'}, {'inprogress': 'task5'}, {'inprogress': 'task6'}, {'completed': 'task7'}, {'completed': 'task8'}, {'completed': 'task9'}] \n",
        "\n"
      ]
    },
    {
      "cell_type": "code",
      "metadata": {
        "id": "KXYOSHY-C7m4",
        "colab": {
          "base_uri": "https://localhost:8080/"
        },
        "outputId": "c059f000-fb29-444f-8725-eb8718357584"
      },
      "source": [
        "def create_project_board():\n",
        "\n",
        "    task_status = (\"assigned\", \"inprogress\", \"completed\")\n",
        "    assigned = ['task1','task2','task3']\n",
        "    inprogress = ['task4','task5','task6']\n",
        "    completed = ['task7','task8','task9']\n",
        "\n",
        "    project_board = []                                        #Created empty list before the loops.\n",
        "\n",
        "    for status in task_status:                                #For each status item in the tuple task_status:\n",
        "      for task in eval(status):                               #For each status, loop through the list with the same name (eval):\n",
        "        project_board.append({status:task})                   #Create a dictionary object with the key status and value task {status : task} and append to new list created before loops.\n",
        "\n",
        "    print(project_board)                                      #Print the list.\n",
        "\n",
        "create_project_board()\n",
        "\n"
      ],
      "execution_count": 29,
      "outputs": [
        {
          "output_type": "stream",
          "name": "stdout",
          "text": [
            "[{'assigned': 'task1'}, {'assigned': 'task2'}, {'assigned': 'task3'}, {'inprogress': 'task4'}, {'inprogress': 'task5'}, {'inprogress': 'task6'}, {'completed': 'task7'}, {'completed': 'task8'}, {'completed': 'task9'}]\n"
          ]
        }
      ]
    },
    {
      "cell_type": "markdown",
      "metadata": {
        "id": "M1BuTu9p19Ma"
      },
      "source": [
        "---\n",
        "### Exercise 3 - names and heights\n",
        "\n",
        "Write a function which will allow a user to enter the names and heights of a set of people and add each set of information as a record (dictionary) to a list. The function will stop collecting names and heights when the user enters \"STOP\" as the name.\n",
        "\n",
        "Then, the function will:  \n",
        "\n",
        "*   produce a list of names in order of the shortest person to the tallest\n",
        "*   calculate the name of the tallest person\n",
        "*   calculate the name of the shortest person\n",
        "*   calculate the average height\n",
        "*   calculate the name of the person who is closest to the average height\n",
        "\n",
        "\n",
        "\n",
        "\n"
      ]
    },
    {
      "cell_type": "code",
      "metadata": {
        "id": "reuyww3e18uv",
        "colab": {
          "base_uri": "https://localhost:8080/"
        },
        "outputId": "8698a656-6e80-4010-a9e2-bfeb596d4ec1"
      },
      "source": [
        "def names_and_heights():\n",
        "\n",
        "    name = []                                                                                   #Created empty list for names.\n",
        "    height = []                                                                                 #Created empty list for heights.\n",
        "    \n",
        "    n = \"i\"\n",
        "    h = 0\n",
        "\n",
        "    while n != \"stop\":                                                                          #While name (n) is not equal (!=) to \"stop\":\n",
        "      n = input(\"Please enter your name: \")                                                     #User is able to input their name.\n",
        "\n",
        "      if n != \"stop\":                                                                           #If name (n) is not equal to (!=) to \"stop\":\n",
        "        name.append(n)                                                                          #Append n to empty name list - name.append(n).\n",
        "        h = int(input(\"Please enter your height in cm: \"))                                      #User is able to input their height.\n",
        "        height.append(h)                                                                        #Append h to empty height list - height.append(h).\n",
        "  \n",
        "\n",
        "    user_info = dict(zip(name, height))                                                         #Stores the names and heights as key:value in new dictionary.\n",
        " \n",
        "    average_height = sum(height) / len(height)                                                  #Average height is calculated by adding up all heights (sum) divided by length of height list (len). \n",
        "    calculating_closest = lambda list_value : abs(list_value - average_height)                  #Calculating closest person to average height: \n",
        "    closest_average = min(height, key=calculating_closest)                                      #Closest average = height - average height and finding the person with the minimum number. \n",
        "\n",
        "    for key, val in user_info.items():                                                          #For every key and value in user_info - items = (key-value pairs of the dictionary)\n",
        "        if val == closest_average:                                                              #If value is equal to closest average:\n",
        "          closest_name = key                                                                    #closest_name = key (the person relating to that value - with closest average)\n",
        "\n",
        "\n",
        "    sort_users = sorted(user_info.items(), key=lambda x: x[1])                                  #Sorts the names by their height (shortest to tallest). \n",
        "\n",
        "    list_of_users = []\n",
        "    for i in sort_users:\n",
        "        list_of_users.append(i[0])\n",
        "        list_of_users.append(i[1])\n",
        "    print(list_of_users)                                                                        #Prints the list in order.\n",
        "\n",
        "    print(\"Tallest person: \",list_of_users[-2])                                                 #Print the tallest person in the list (-2 = the last name in the list every time).\n",
        "    print(\"Shortest person: \",list_of_users[0])                                                 #Print the shortest person in the list (0 = the first name in the list every time).\n",
        "    print(\"Average height: \",average_height)                                                    #Prints the average height result.\n",
        "    print(\"Closest to the average height: \",closest_name)                                       #Prints the name of the person who has the closest height to the average height. \n",
        "\n",
        "\n",
        "names_and_heights()"
      ],
      "execution_count": 84,
      "outputs": [
        {
          "output_type": "stream",
          "name": "stdout",
          "text": [
            "Please enter your name: Lorna\n",
            "Please enter your height in cm: 157\n",
            "Please enter your name: Eloise\n",
            "Please enter your height in cm: 160\n",
            "Please enter your name: Nanami\n",
            "Please enter your height in cm: 187\n",
            "Please enter your name: Megumi\n",
            "Please enter your height in cm: 175\n",
            "Please enter your name: Inumaki\n",
            "Please enter your height in cm: 164\n",
            "Please enter your name: Itadori\n",
            "Please enter your height in cm: 173\n",
            "Please enter your name: stop\n",
            "['Lorna', 157, 'Eloise', 160, 'Inumaki', 164, 'Itadori', 173, 'Megumi', 175, 'Nanami', 187]\n",
            "Tallest person:  Nanami\n",
            "Shortest person:  Lorna\n",
            "Average height:  169.33333333333334\n",
            "Closest to the average height:  Itadori\n"
          ]
        }
      ]
    }
  ]
}