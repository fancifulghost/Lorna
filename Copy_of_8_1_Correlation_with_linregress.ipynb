{
  "nbformat": 4,
  "nbformat_minor": 0,
  "metadata": {
    "colab": {
      "name": "Copy of 8.1. Correlation with linregress",
      "provenance": [],
      "collapsed_sections": [],
      "include_colab_link": true
    },
    "kernelspec": {
      "name": "python3",
      "display_name": "Python 3"
    },
    "language_info": {
      "name": "python"
    }
  },
  "cells": [
    {
      "cell_type": "markdown",
      "metadata": {
        "id": "view-in-github",
        "colab_type": "text"
      },
      "source": [
        "<a href=\"https://colab.research.google.com/github/fancifulghost/Lorna/blob/main/Copy_of_8_1_Correlation_with_linregress.ipynb\" target=\"_parent\"><img src=\"https://colab.research.google.com/assets/colab-badge.svg\" alt=\"Open In Colab\"/></a>"
      ]
    },
    {
      "cell_type": "markdown",
      "metadata": {
        "id": "rM0pH87Y4dOV"
      },
      "source": [
        "# Describing the data relatively and visually\n",
        "---\n",
        "\n",
        "This worksheet introduces **scipy** library\n",
        "\n",
        "A library of functions for interpolating, optimising, linear regression, etc  \n",
        "\n",
        "---\n",
        "\n",
        "A dataset will be read into a dataframe, cleaned, wrangled and so prepared for summarising and the telling of stories through visualisations and summaries.\n",
        "\n",
        "So far we have covered statistical measures over an individual series.  Linear regression reports correlation between the values in two series.\n",
        "\n",
        "To get the results of a linear regression:  \n",
        "*  import the `linregress` function from the `scipy.stats` package \n",
        "*  run the `linregress` function with the two axes assigning the result to a variable (e.g. `regression`) \n",
        "\n",
        "The result of the linregress function is a set of variables:  \n",
        "*  `slope`, `intercept` - the gradient and y-intercept of the regression line (the line of best fit between the two series) are in `regression.slope` and `regression.intercept`\n",
        "*  `rvalue` - the correlation coefficient - this indicates how closely the line drawn from the linear regression data fits the actual data, the closer to 1 the better the fit\n",
        "*  `pvalue` - the probability of error if the regression line is extended to predict\n",
        "*  the standard error is in `regression.stderr` and is the average distance of each data point from the lineof best fit \n",
        "\n",
        "\n",
        "Further information [here](https://docs.scipy.org/doc/scipy/reference/generated/scipy.stats.linregress.html)\n"
      ]
    },
    {
      "cell_type": "markdown",
      "metadata": {
        "id": "A60PQ510HHMQ"
      },
      "source": [
        "### Exercise 1 - is age closely related to income?\n",
        "---\n",
        "\n",
        "Use linear regression to compare the columns 'Age' and 'Income' in the data set 'Income-Data' at this url:  \n",
        "https://github.com/futureCodersSE/working-with-data/blob/main/Data%20sets/Income-Data.xlsx?raw=true  \n",
        "\n",
        "To do this:\n",
        "*  import the pandas library  \n",
        "\n",
        "\n",
        "*  import the **linregress** function from the library **scipy.stats**  (`from scipy.stats import linregress`)  \n",
        "\n",
        "\n",
        "*  open the Excel file at the url above, using the sheet_name '`county-level`', reading the data into a dataframe called **county_level_df**  \n",
        "\n",
        "\n",
        "*  create a variable called **x** and assign the '`Age`' column of the `county_level_df` dataframe   \n",
        "\n",
        "\n",
        "*  create a variable called **y** and assign the '`Income`' column of the `county_level_df` dataframe   \n",
        "\n",
        "\n",
        "*  create a variable called **regression** and assign the result of running the linregress function with `x`, `y` as its parameters ( `linregress(x,y)` )   \n",
        "\n",
        "\n",
        "*  display the regression  \n",
        "(*Expected output:  LinregressResult(slope=-0.31433084434233205, intercept=72.78388856978748, rvalue=-0.14787411576068246, pvalue=0.5581637648902298, stderr=0.5255739814332189*)  \n",
        "\n",
        "\n",
        "*  display the slope (`regression.slope`)  \n",
        "(*Expected output: -0.31433084434233205 - this indicates that the line plotting Age against Income slopes downward implying that income reduces with age*)  \n",
        "\n",
        "\n",
        "*  display the intercept (`regression.intercept`)  \n",
        "(*Expected output: 72.78388856978748 - this indicates that income level starts at 72.78388856978748 and reduces from there by age*)    \n",
        "\n",
        "\n",
        "*  display the rvalue (which indicates how closely income follows age and whether it goes up as age goes up or goes down as age goes up "
      ]
    },
    {
      "cell_type": "code",
      "metadata": {
        "id": "B7-yqi8n4Z3s",
        "colab": {
          "base_uri": "https://localhost:8080/"
        },
        "outputId": "13e23d38-1b27-4894-f13f-e6a60460378c"
      },
      "source": [
        "import pandas as pd\n",
        "from scipy.stats import linregress\n",
        "import numpy as np\n",
        "\n",
        "url = \"https://github.com/futureCodersSE/working-with-data/blob/main/Data%20sets/Income-Data.xlsx?raw=true\"\n",
        "county_level_df = pd.read_excel(url, sheet_name = 'county-level')\n",
        "\n",
        "x = county_level_df['Age']\n",
        "y = county_level_df['Income']\n",
        "regression = linregress(x,y)\n",
        "r_squared = regression.rvalue ** 2\n",
        "\n",
        "print(\"Regression: \",regression)\n",
        "print(\"Slope: \",regression.slope)\n",
        "print(\"Intercept: \",regression.intercept)\n",
        "print(\"R Value: \",regression.rvalue)\n",
        "print(\"R Squared: \",r_squared)                  #display the rvalue: find out the regression.value and then rsquare it = r_squared = regression.rvalue ** 2."
      ],
      "execution_count": 59,
      "outputs": [
        {
          "output_type": "stream",
          "name": "stdout",
          "text": [
            "Regression:  LinregressResult(slope=-0.31433084434233205, intercept=72.78388856978748, rvalue=-0.14787411576068246, pvalue=0.5581637648902298, stderr=0.5255739814332189)\n",
            "Slope:  -0.31433084434233205\n",
            "Intercept:  72.78388856978748\n",
            "R Value:  -0.14787411576068246\n",
            "R Squared:  0.021866754112003717\n"
          ]
        }
      ]
    },
    {
      "cell_type": "markdown",
      "metadata": {
        "id": "AXiD7hVyQEe9"
      },
      "source": [
        "### Exercise 2 - Could Population predict Income?  \n",
        "---\n",
        "\n",
        "Repeat the steps in exercise 1 to see if there is a clearer correlation between Population and Income.  \n",
        "\n",
        "Add a statement in the text cell to describe your findings.\n",
        "\n",
        "**Expected output**:   \n",
        "0.013558605755058871\n"
      ]
    },
    {
      "cell_type": "code",
      "metadata": {
        "id": "S349ZIiIQSvy",
        "colab": {
          "base_uri": "https://localhost:8080/",
          "height": 407
        },
        "outputId": "3371034b-75df-4646-f35a-baeac12b5b71"
      },
      "source": [
        "import pandas as pd\n",
        "from scipy.stats import linregress\n",
        "import numpy as np\n",
        "import matplotlib.pyplot as plt\n",
        "\n",
        "url = \"https://github.com/futureCodersSE/working-with-data/blob/main/Data%20sets/Income-Data.xlsx?raw=true\"\n",
        "county_level_df = pd.read_excel(url, sheet_name = 'county-level')\n",
        "\n",
        "x = county_level_df['Population']\n",
        "y = county_level_df['Income']\n",
        "regression = linregress(x,y)\n",
        "print(\"Regression: \",regression)\n",
        "print(\"Slope: \",regression.slope)\n",
        "print(\"Intercept: \",regression.intercept)\n",
        "print(\"R Value: \",regression.rvalue)\n",
        "print(\"R Squared: \",r_squared,\"\\n\")              #Display the rvalue: find out the regression.value and then rsquare it = r_squared = regression.rvalue ** 2.\n",
        "\n",
        "\n",
        "\n",
        "\n",
        "chart=sns.regplot(x=x, y=y, color=\"orange\")\n",
        "chart.set_xlabel('Population')\n",
        "chart.set_ylabel('Income')\n",
        "\n",
        "\n",
        "plt.show()\n",
        "\n",
        "if regression.pvalue <= 0.05:\n",
        "  print(\"Model is significant, the pvalue is < 0.05: \",regression.pvalue)\n",
        "else:\n",
        "  print(\"Model is NOT significant, the pvalue is > 0.05: \",regression.pvalue)"
      ],
      "execution_count": 81,
      "outputs": [
        {
          "output_type": "stream",
          "name": "stdout",
          "text": [
            "Regression:  LinregressResult(slope=0.05737132629483762, intercept=60.95698211316883, rvalue=0.11644142628402862, pvalue=0.6454275157910035, stderr=0.12233846479490115)\n",
            "Slope:  0.05737132629483762\n",
            "Intercept:  60.95698211316883\n",
            "R Value:  0.11644142628402862\n",
            "R Squared:  0.4507725540176983 \n",
            "\n"
          ]
        },
        {
          "output_type": "display_data",
          "data": {
            "text/plain": [
              "<Figure size 432x288 with 1 Axes>"
            ],
            "image/png": "[encoded data removed]"
          },
          "metadata": {}
        },
        {
          "output_type": "stream",
          "name": "stdout",
          "text": [
            "Model is NOT significant, the pvalue is > 0.05:  0.6454275157910035\n"
          ]
        }
      ]
    },
    {
      "cell_type": "markdown",
      "metadata": {
        "id": "KHLucNuAXiyJ"
      },
      "source": [
        ""
      ]
    },
    {
      "cell_type": "markdown",
      "metadata": {
        "id": "zZXvmsL2SbA-"
      },
      "source": [
        "### Exercise 3 - Does Stress predict Wellbeing?\n",
        "---\n",
        "\n",
        "Repeat the steps in Exercises 1 & 2 to see if you can find a statistically significant result.\n",
        "\n",
        "Add a statement in the text cell to describe your findings\n",
        "\n",
        "* Read the dataset: \"https://github.com/lilaceri/Working-with-data-/blob/b157a2feceb7709cf82426932385706d65446270/Data%20Sets%20for%20code%20divisio/Positive_Psychology_2017.csv?raw=true\"\n",
        "\n",
        "* perform linear regression  \n",
        "* look at r_squared and pvalue to get an idea of how predictive and significant these variables are\n",
        "\n",
        "* save slope and intercepts in variables for later \n",
        "\n",
        "Challenge:  \n",
        "Write a function that checks the significance of a regression and displays a message indicating the result.\n",
        "\n",
        "**Test output**:  \n",
        "LinregressResult(slope=-0.6279050248852254, intercept=37.713488379900454, rvalue=-0.6713959740851134, pvalue=6.084540561441803e-07, stderr=0.10694652962765022)  \n",
        "r sqr = 0.4507725540176983  \n",
        "model is significant, p < .05:  6.084540561441803e-07  "
      ]
    },
    {
      "cell_type": "code",
      "metadata": {
        "id": "pbZf_2dITkqX",
        "colab": {
          "base_uri": "https://localhost:8080/"
        },
        "outputId": "326b3f70-1661-49b4-87f4-e1b4bef7687e"
      },
      "source": [
        "import pandas as pd\n",
        "from scipy.stats import linregress\n",
        "import numpy as np\n",
        "\n",
        "def find_significance():\n",
        "\n",
        "    wellbeing_df = pd.read_csv(\"https://github.com/lilaceri/Working-with-data-/blob/b157a2feceb7709cf82426932385706d65446270/Data%20Sets%20for%20code%20divisio/Positive_Psychology_2017.csv?raw=true\")\n",
        "\n",
        "    x = wellbeing_df['Stress']\n",
        "    y = wellbeing_df['Wellbeing']\n",
        "    regression = linregress(x,y)\n",
        "    print(\"Regression: \",regression)\n",
        "\n",
        "    r_squared = regression.rvalue ** 2\n",
        "    print(\"R Squared: \",r_squared)        #Display R squared: find out the regression.value and then rsquare it = r_squared = regression.rvalue ** 2.\n",
        "\n",
        "#    print(\"P Value: \",regression.pvalue)\n",
        "\n",
        "    r_slope = regression.slope\n",
        "    r_intercept = regression.intercept\n",
        "\n",
        "    if regression.pvalue <= 0.05:\n",
        "      print(\"Model is significant, the pvalue is < 0.05: \",regression.pvalue)\n",
        "    else:\n",
        "      print(\"Model is NOT significant, the pvalue is > 0.05: \",regression.pvalue)\n",
        "\n",
        "\n",
        "\n",
        "\n",
        "find_significance()"
      ],
      "execution_count": 75,
      "outputs": [
        {
          "output_type": "stream",
          "name": "stdout",
          "text": [
            "Regression:  LinregressResult(slope=-0.6279050248852254, intercept=37.713488379900454, rvalue=-0.6713959740851134, pvalue=6.084540561441803e-07, stderr=0.10694652962765022)\n",
            "R Squared:  0.4507725540176983\n",
            "Model is significant, the pvalue is < 0.05:  6.084540561441803e-07\n"
          ]
        }
      ]
    },
    {
      "cell_type": "markdown",
      "source": [
        "# Create some charts and make some predictions from regressions\n",
        "\n",
        "1.  Using what you know from completing the Visualisation worksheets (matplotlib and Seaborn), plot the various regression results in a set of charts.\n",
        "2.  Use the slope and intercept to calculate a prediction for a reasonable value (e.g. predict an income for a given age using the slope and intercept from the regression to calculate income from the formula `age * slope + intercept`"
      ],
      "metadata": {
        "id": "ZZPFyMur8gxM"
      }
    },
    {
      "cell_type": "code",
      "metadata": {
        "id": "9puphgbB1tUY",
        "colab": {
          "base_uri": "https://localhost:8080/",
          "height": 443
        },
        "outputId": "9b67f235-1d4a-4f05-aa7f-3c3146437fd6"
      },
      "source": [
        "import pandas as pd\n",
        "import seaborn as sns\n",
        "from scipy.stats import linregress\n",
        "import matplotlib.pyplot as plt\n",
        "\n",
        "url = \"https://github.com/futureCodersSE/working-with-data/blob/main/Data%20sets/Income-Data.xlsx?raw=true\"\n",
        "county_level_df = pd.read_excel(url, sheet_name = 'county-level')\n",
        "\n",
        "x = county_level_df['Age']\n",
        "y = county_level_df['Income']\n",
        "\n",
        "chart=sns.regplot(x=x, y=y, color=\"orange\")\n",
        "chart.set_xlabel('Age')\n",
        "chart.set_ylabel('Income')\n",
        "plt.show()\n",
        "\n",
        "\n",
        "regression = linregress(x,y)\n",
        "print(\"Regression: \",regression)\n",
        "print(\"Slope: \",regression.slope)\n",
        "print(\"Intercept: \",regression.intercept)\n",
        "\n",
        "\n",
        "#prediction = x * regression.slope + regression.intercept\n",
        "#results = x, prediction\n",
        "#print(\"Calculated prediction:\", results)\n",
        "\n",
        "max_prediction = county_level_df['Age'].max() * regression.slope + regression.intercept\n",
        "min_prediction = county_level_df['Age'].min() * regression.slope + regression.intercept\n",
        "print(\"\\n Predicting an income for a the max and min age: \")\n",
        "print(\"Max Age: \",county_level_df['Age'].max(), \"Income prediction: \",max_prediction)\n",
        "print(\"Min Age: \",county_level_df['Age'].min(), \"Income prediction: \",min_prediction,\"\\n\")\n",
        "\n",
        "if regression.pvalue <= 0.05:\n",
        "  print(\"Model is significant, the pvalue is < 0.05: \",regression.pvalue)\n",
        "else:\n",
        "  print(\"Model is NOT significant, the pvalue is > 0.05: \",regression.pvalue)"
      ],
      "execution_count": 83,
      "outputs": [
        {
          "output_type": "display_data",
          "data": {
            "text/plain": [
              "<Figure size 432x288 with 1 Axes>"
            ],
            "image/png": "[encoded data removed]"
          },
          "metadata": {}
        },
        {
          "output_type": "stream",
          "name": "stdout",
          "text": [
            "Regression:  LinregressResult(slope=-0.31433084434233205, intercept=72.78388856978748, rvalue=-0.14787411576068246, pvalue=0.5581637648902298, stderr=0.5255739814332189)\n",
            "Slope:  -0.31433084434233205\n",
            "Intercept:  72.78388856978748\n",
            "\n",
            " Predicting an income for a the max and min age: \n",
            "Max Age:  42.0 Income prediction:  59.58199310740953\n",
            "Min Age:  22.0 Income prediction:  65.86860999425618 \n",
            "\n",
            "Model is NOT significant, the pvalue is > 0.05:  0.5581637648902298\n"
          ]
        }
      ]
    },
    {
      "cell_type": "code",
      "source": [
        "import pandas as pd\n",
        "import seaborn as sns\n",
        "import matplotlib.pyplot as plt\n",
        "\n",
        "url = \"https://github.com/futureCodersSE/working-with-data/blob/main/Data%20sets/Income-Data.xlsx?raw=true\"\n",
        "county_level_df = pd.read_excel(url, sheet_name = 'county-level')\n",
        "\n",
        "x = county_level_df['Age']\n",
        "y = county_level_df['Income']\n",
        "\n",
        "chart = sns.lineplot(x=x,y=y, color=\"orange\")\n",
        "sns.set_style(\"whitegrid\")\n",
        "\n",
        "plt.show()\n",
        "\n",
        "regression = linregress(x,y)\n",
        "print(\"Regression: \",regression)\n",
        "print(\"Slope: \",regression.slope)\n",
        "print(\"Intercept: \",regression.intercept)\n",
        "\n",
        "max_prediction = county_level_df['Age'].max() * regression.slope + regression.intercept\n",
        "min_prediction = county_level_df['Age'].min() * regression.slope + regression.intercept\n",
        "print(\"\\n Predicting an income for a the max and min age: \")\n",
        "print(\"Max Age: \",county_level_df['Age'].max(), \"Income prediction: \",max_prediction)\n",
        "print(\"Min Age: \",county_level_df['Age'].min(), \"Income prediction: \",min_prediction,\"\\n\")\n",
        "\n",
        "if regression.pvalue <= 0.05:\n",
        "  print(\"Model is significant, the pvalue is < 0.05: \",regression.pvalue)\n",
        "else:\n",
        "  print(\"Model is NOT significant, the pvalue is > 0.05: \",regression.pvalue)"
      ],
      "metadata": {
        "colab": {
          "base_uri": "https://localhost:8080/",
          "height": 443
        },
        "id": "G5CLTj3gtrV-",
        "outputId": "cad90be3-f9d7-4217-b216-8b98506e1a73"
      },
      "execution_count": 91,
      "outputs": [
        {
          "output_type": "display_data",
          "data": {
            "text/plain": [
              "<Figure size 432x288 with 1 Axes>"
            ],
            "image/png": "[encoded data removed]"
          },
          "metadata": {}
        },
        {
          "output_type": "stream",
          "name": "stdout",
          "text": [
            "Regression:  LinregressResult(slope=-0.31433084434233205, intercept=72.78388856978748, rvalue=-0.14787411576068246, pvalue=0.5581637648902298, stderr=0.5255739814332189)\n",
            "Slope:  -0.31433084434233205\n",
            "Intercept:  72.78388856978748\n",
            "\n",
            " Predicting an income for a the max and min age: \n",
            "Max Age:  42.0 Income prediction:  59.58199310740953\n",
            "Min Age:  22.0 Income prediction:  65.86860999425618 \n",
            "\n",
            "Model is NOT significant, the pvalue is > 0.05:  0.5581637648902298\n"
          ]
        }
      ]
    },
    {
      "cell_type": "code",
      "source": [
        "import pandas as pd\n",
        "import seaborn as sns\n",
        "from scipy.stats import linregress\n",
        "import matplotlib.pyplot as plt\n",
        "\n",
        "\n",
        "\n",
        "wellbeing_df = pd.read_csv(\"https://github.com/lilaceri/Working-with-data-/blob/b157a2feceb7709cf82426932385706d65446270/Data%20Sets%20for%20code%20divisio/Positive_Psychology_2017.csv?raw=true\")\n",
        "\n",
        "x = wellbeing_df['Stress']\n",
        "y = wellbeing_df['Wellbeing']\n",
        "regression = linregress(x,y)\n",
        "\n",
        "\n",
        "\n",
        "chart=sns.regplot(x=x, y=y, color=\"orange\")\n",
        "chart.set_xlabel('Stress')\n",
        "chart.set_ylabel('Wellbeing')\n",
        "plt.show()\n",
        "\n",
        "\n",
        "print(\"Regression: \",regression)\n",
        "\n",
        "r_squared = regression.rvalue ** 2\n",
        "print(\"R Squared: \",r_squared,\"\\n\")        #Display R squared: find out the regression.value and then rsquare it = r_squared = regression.rvalue ** 2.\n",
        "\n",
        "#    print(\"P Value: \",regression.pvalue)\n",
        "\n",
        "r_slope = regression.slope\n",
        "r_intercept = regression.intercept\n",
        "\n",
        "if regression.pvalue <= 0.05:\n",
        "  print(\"Model is significant, the pvalue is < 0.05: \",regression.pvalue)\n",
        "else:\n",
        "  print(\"Model is NOT significant, the pvalue is > 0.05: \",regression.pvalue)"
      ],
      "metadata": {
        "colab": {
          "base_uri": "https://localhost:8080/",
          "height": 352
        },
        "id": "_f3VdL9kJk2c",
        "outputId": "e01e643a-325a-43dc-d010-4453f8c81546"
      },
      "execution_count": 90,
      "outputs": [
        {
          "output_type": "display_data",
          "data": {
            "text/plain": [
              "<Figure size 432x288 with 1 Axes>"
            ],
            "image/png": "[encoded data removed]"
          },
          "metadata": {}
        },
        {
          "output_type": "stream",
          "name": "stdout",
          "text": [
            "Regression:  LinregressResult(slope=-0.6279050248852254, intercept=37.713488379900454, rvalue=-0.6713959740851134, pvalue=6.084540561441803e-07, stderr=0.10694652962765022)\n",
            "R Squared:  0.4507725540176983 \n",
            "\n",
            "Model is significant, the pvalue is < 0.05:  6.084540561441803e-07\n"
          ]
        }
      ]
    },
    {
      "cell_type": "markdown",
      "metadata": {
        "id": "FWli4XMmsAPo"
      },
      "source": [
        "# Further reference on linear regression\n",
        "\n",
        "[at statisticalsolutions.com](https://www.statisticssolutions.com/free-resources/directory-of-statistical-analyses/what-is-linear-regression/)"
      ]
    }
  ]
}